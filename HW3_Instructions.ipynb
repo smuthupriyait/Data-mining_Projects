{
 "cells": [
  {
   "cell_type": "markdown",
   "source": [
    "# HW 3: Classification, Evaluation, and Deployment"
   ],
   "metadata": {}
  },
  {
   "cell_type": "markdown",
   "source": [
    "In this homework, you will experience a complete machine learning cycle from data preparation to deployment. You will prepare a dataset, make a model, evaluate models to find the best fit, and deploy it to a simple web page. Our main objective is to make you try classification and evaluation methods, so we will only apply essential data preprocessing techniques but mainly focus on classification and evaluation."
   ],
   "metadata": {}
  },
  {
   "cell_type": "markdown",
   "source": [
    "We will use the **Adult** dataset from the UCI repository and more information about the data is available [here](http://archive.ics.uci.edu/ml/datasets/Adult). Since we have removed and changed the dataset for a grading purpose, use the one that we provide on ilearn."
   ],
   "metadata": {}
  },
  {
   "cell_type": "markdown",
   "source": [
    "The dataset contains the information to check whether income exceeds $50K/yr based on census data. The datasets consist of 14 attributes and one binary class variable:"
   ],
   "metadata": {}
  },
  {
   "cell_type": "markdown",
   "source": [
    "- income: >50K, <=50K\n",
    "\n",
    "- age: continuous.\n",
    "\n",
    "- workclass: Private, Self-emp-not-inc, Self-emp-inc, Federal-gov, Local-gov, State-gov, Without-pay, Never-worked.\n",
    "\n",
    "- fnlwgt: continuous.\n",
    "\n",
    "- education: Bachelors, Some-college, 11th, HS-grad, Prof-school, Assoc-acdm, Assoc-voc, 9th, 7th-8th, 12th, Masters, 1st-4th, 10th, Doctorate, 5th-6th, Preschool. education-num: continuous.\n",
    "\n",
    "- education-num: continuous.\n",
    "\n",
    "- marital-status: Married-civ-spouse, Divorced, Never-married, Separated, Widowed, Married-spouse-absent, Married-AF-spouse.\n",
    "\n",
    "- occupation: Tech-support, Craft-repair, Other-service, Sales, Exec-managerial, Prof-specialty, Handlers-cleaners, Machine-op-inspct, Adm-clerical, Farming-fishing, Transport-moving, Priv-house-serv, Protective-serv, Armed-Forces.\n",
    "\n",
    "- relationship: Wife, Own-child, Husband, Not-in-family, Other-relative, Unmarried.\n",
    "\n",
    "- race: White, Asian-Pac-Islander, Amer-Indian-Eskimo, Other, Black.\n",
    "\n",
    "- sex: Female, Male.\n",
    "\n",
    "- capital-gain: continuous.\n",
    "\n",
    "- capital-loss: continuous.\n",
    "\n",
    "- hours-per-week: continuous.\n",
    "\n",
    "- native-country: United-States, Cambodia, England, Puerto-Rico, Canada, Germany, Outlying-US(Guam-USVI-etc), India, Japan, Greece, South, China, Cuba, Iran, Honduras, Philippines, Italy, Poland, Jamaica, Vietnam, Mexico, Portugal, Ireland, France, Dominican-Republic, Laos, Ecuador, Taiwan, Haiti, Columbia, Hungary, Guatemala, Nicaragua, Scotland, Thailand, Yugoslavia, El-Salvador, Trinadad&Tobago, Peru, Hong, Holand-Netherlands."
   ],
   "metadata": {}
  },
  {
   "cell_type": "markdown",
   "source": [
    "and we have a binary class which can be `>=50` or `<50`."
   ],
   "metadata": {}
  },
  {
   "cell_type": "markdown",
   "source": [
    "**NOTE**\n",
    "- Unlike the labs, each function you make here will be **graded**, so it is important to *strictly* follow the instruction.\n",
    "- **Import** all necessary libraries yourself whenever needed. Failure to run any code can affect your grade."
   ],
   "metadata": {}
  },
  {
   "cell_type": "markdown",
   "source": [
    "## Contents"
   ],
   "metadata": {}
  },
  {
   "cell_type": "markdown",
   "source": [
    "- **Total points: 6.0 pt**\n",
    "\n",
    "0. Preparation (0.7 pt)\n",
    " - Task 1: Drop missing values (0.1 pt).\n",
    " - Task 2: Assign X and y (0.1 pt).\n",
    " - Task 3: One-hot encoding (0.1 pt).\n",
    " - Task 4: Train test split (0.2 pt).\n",
    " - Task 5: Standardization (0.2 pt).\n",
    "1. Classification (2.9 pt)\n",
    " - Task 6: Random forest (0.5 pt).\n",
    " - Task 7: SVM with diverse kernels (0.4 pt).\n",
    " - Task 8: Decision tree and Random Forest (2.0 pt).\n",
    "2. Evaluation (1.8 pt)\n",
    " - Task 9: Accuracy, Precision, Recall, F1-score (0.3 pt).\n",
    " - Task 10: AUC/AUPRC (0.3 pt).\n",
    " - Task 11: Apply them together with scikit-learn (0.4 pt).\n",
    " - Task 12: Manual implementation of performance metrics (0.8 pt).\n",
    "3. Deployment (0.6 pt)\n",
    " - Task 13: Save models into a file using pickle (0.3 pt).\n",
    " - Task 14: DASH deployment (0.3 pt)."
   ],
   "metadata": {}
  },
  {
   "cell_type": "markdown",
   "source": [
    "# 0. Preparation"
   ],
   "metadata": {}
  },
  {
   "cell_type": "markdown",
   "source": [
    "##### Student information"
   ],
   "metadata": {}
  },
  {
   "cell_type": "markdown",
   "source": [
    "Please provide your information for automatic grading."
   ],
   "metadata": {}
  },
  {
   "cell_type": "code",
   "execution_count": 1,
   "source": [
    "STUD_SUID = 'mush8206'\r\n",
    "STUD_NAME = 'Muthupriya Shankaran'\r\n",
    "STUD_EMAIL = 'mush8206@stud.dsv.su.se'"
   ],
   "outputs": [],
   "metadata": {}
  },
  {
   "cell_type": "markdown",
   "source": [
    "#### Basic libraries"
   ],
   "metadata": {}
  },
  {
   "cell_type": "markdown",
   "source": [
    "These libraries will be frequently used throughout the homework. Do not change the block below."
   ],
   "metadata": {}
  },
  {
   "cell_type": "code",
   "execution_count": 2,
   "source": [
    "import pandas as pd\r\n",
    "import numpy as np\r\n",
    "import matplotlib.pyplot as plt\r\n",
    "from sklearn import svm, datasets\r\n",
    "from sklearn.ensemble import RandomForestClassifier\r\n",
    "from sklearn.datasets import make_classification\r\n",
    "from sklearn.model_selection import cross_val_score\r\n",
    "from sklearn.model_selection import StratifiedKFold\r\n",
    "from sklearn.model_selection import GridSearchCV\r\n",
    "from collections import Counter\r\n",
    "import pickle\r\n",
    "from sklearn.model_selection import train_test_split\r\n",
    "from sklearn.svm import SVC\r\n",
    "RANDOM_STATE = 12345 #Do not change it!\r\n",
    "np.random.seed(RANDOM_STATE) #Do not change it!"
   ],
   "outputs": [],
   "metadata": {}
  },
  {
   "cell_type": "markdown",
   "source": [
    "#### Load the dataset"
   ],
   "metadata": {}
  },
  {
   "cell_type": "markdown",
   "source": [
    "Use the **Adult** dataset located ilearn, and load it here using pandas. "
   ],
   "metadata": {}
  },
  {
   "cell_type": "code",
   "execution_count": 3,
   "source": [
    "adult = pd.read_csv(\"datasets/adult.data\", sep=\",\", header=None, skipinitialspace=True)"
   ],
   "outputs": [],
   "metadata": {}
  },
  {
   "cell_type": "markdown",
   "source": [
    "You can run the line below to give the dataframe proper column names."
   ],
   "metadata": {}
  },
  {
   "cell_type": "code",
   "execution_count": 4,
   "source": [
    "adult.columns = ['age', 'workclass', 'fnlwgt', 'education', 'education-num', 'marital-status', 'occupation', 'relationship', 'race',  'sex', 'capital-gain', 'capital-loss', 'hours-per-week', 'native-country', 'income']"
   ],
   "outputs": [],
   "metadata": {}
  },
  {
   "cell_type": "markdown",
   "source": [
    "Here you can find out some basic information by calling *info(), head()*, and *describe()*."
   ],
   "metadata": {}
  },
  {
   "cell_type": "code",
   "execution_count": 5,
   "source": [
    "adult.info()"
   ],
   "outputs": [
    {
     "output_type": "stream",
     "name": "stdout",
     "text": [
      "<class 'pandas.core.frame.DataFrame'>\n",
      "RangeIndex: 32561 entries, 0 to 32560\n",
      "Data columns (total 15 columns):\n",
      " #   Column          Non-Null Count  Dtype \n",
      "---  ------          --------------  ----- \n",
      " 0   age             32561 non-null  int64 \n",
      " 1   workclass       32561 non-null  object\n",
      " 2   fnlwgt          32561 non-null  int64 \n",
      " 3   education       32561 non-null  object\n",
      " 4   education-num   32561 non-null  int64 \n",
      " 5   marital-status  32561 non-null  object\n",
      " 6   occupation      32561 non-null  object\n",
      " 7   relationship    32561 non-null  object\n",
      " 8   race            32561 non-null  object\n",
      " 9   sex             32561 non-null  object\n",
      " 10  capital-gain    32561 non-null  int64 \n",
      " 11  capital-loss    32561 non-null  int64 \n",
      " 12  hours-per-week  32561 non-null  int64 \n",
      " 13  native-country  32561 non-null  object\n",
      " 14  income          32561 non-null  object\n",
      "dtypes: int64(6), object(9)\n",
      "memory usage: 3.7+ MB\n"
     ]
    }
   ],
   "metadata": {}
  },
  {
   "cell_type": "code",
   "execution_count": 6,
   "source": [
    "adult.head()"
   ],
   "outputs": [
    {
     "output_type": "execute_result",
     "data": {
      "text/html": [
       "<div>\n",
       "<style scoped>\n",
       "    .dataframe tbody tr th:only-of-type {\n",
       "        vertical-align: middle;\n",
       "    }\n",
       "\n",
       "    .dataframe tbody tr th {\n",
       "        vertical-align: top;\n",
       "    }\n",
       "\n",
       "    .dataframe thead th {\n",
       "        text-align: right;\n",
       "    }\n",
       "</style>\n",
       "<table border=\"1\" class=\"dataframe\">\n",
       "  <thead>\n",
       "    <tr style=\"text-align: right;\">\n",
       "      <th></th>\n",
       "      <th>age</th>\n",
       "      <th>workclass</th>\n",
       "      <th>fnlwgt</th>\n",
       "      <th>education</th>\n",
       "      <th>education-num</th>\n",
       "      <th>marital-status</th>\n",
       "      <th>occupation</th>\n",
       "      <th>relationship</th>\n",
       "      <th>race</th>\n",
       "      <th>sex</th>\n",
       "      <th>capital-gain</th>\n",
       "      <th>capital-loss</th>\n",
       "      <th>hours-per-week</th>\n",
       "      <th>native-country</th>\n",
       "      <th>income</th>\n",
       "    </tr>\n",
       "  </thead>\n",
       "  <tbody>\n",
       "    <tr>\n",
       "      <th>0</th>\n",
       "      <td>39</td>\n",
       "      <td>State-gov</td>\n",
       "      <td>77516</td>\n",
       "      <td>Bachelors</td>\n",
       "      <td>13</td>\n",
       "      <td>Never-married</td>\n",
       "      <td>Adm-clerical</td>\n",
       "      <td>Not-in-family</td>\n",
       "      <td>White</td>\n",
       "      <td>Male</td>\n",
       "      <td>2174</td>\n",
       "      <td>0</td>\n",
       "      <td>40</td>\n",
       "      <td>United-States</td>\n",
       "      <td>&lt;=50K</td>\n",
       "    </tr>\n",
       "    <tr>\n",
       "      <th>1</th>\n",
       "      <td>50</td>\n",
       "      <td>Self-emp-not-inc</td>\n",
       "      <td>83311</td>\n",
       "      <td>Bachelors</td>\n",
       "      <td>13</td>\n",
       "      <td>Married-civ-spouse</td>\n",
       "      <td>Exec-managerial</td>\n",
       "      <td>Husband</td>\n",
       "      <td>White</td>\n",
       "      <td>Male</td>\n",
       "      <td>0</td>\n",
       "      <td>0</td>\n",
       "      <td>13</td>\n",
       "      <td>United-States</td>\n",
       "      <td>&lt;=50K</td>\n",
       "    </tr>\n",
       "    <tr>\n",
       "      <th>2</th>\n",
       "      <td>38</td>\n",
       "      <td>Private</td>\n",
       "      <td>215646</td>\n",
       "      <td>HS-grad</td>\n",
       "      <td>9</td>\n",
       "      <td>Divorced</td>\n",
       "      <td>Handlers-cleaners</td>\n",
       "      <td>Not-in-family</td>\n",
       "      <td>White</td>\n",
       "      <td>Male</td>\n",
       "      <td>0</td>\n",
       "      <td>0</td>\n",
       "      <td>40</td>\n",
       "      <td>United-States</td>\n",
       "      <td>&lt;=50K</td>\n",
       "    </tr>\n",
       "    <tr>\n",
       "      <th>3</th>\n",
       "      <td>53</td>\n",
       "      <td>Private</td>\n",
       "      <td>234721</td>\n",
       "      <td>11th</td>\n",
       "      <td>7</td>\n",
       "      <td>Married-civ-spouse</td>\n",
       "      <td>Handlers-cleaners</td>\n",
       "      <td>Husband</td>\n",
       "      <td>Black</td>\n",
       "      <td>Male</td>\n",
       "      <td>0</td>\n",
       "      <td>0</td>\n",
       "      <td>40</td>\n",
       "      <td>United-States</td>\n",
       "      <td>&lt;=50K</td>\n",
       "    </tr>\n",
       "    <tr>\n",
       "      <th>4</th>\n",
       "      <td>28</td>\n",
       "      <td>Private</td>\n",
       "      <td>338409</td>\n",
       "      <td>Bachelors</td>\n",
       "      <td>13</td>\n",
       "      <td>Married-civ-spouse</td>\n",
       "      <td>Prof-specialty</td>\n",
       "      <td>Wife</td>\n",
       "      <td>Black</td>\n",
       "      <td>Female</td>\n",
       "      <td>0</td>\n",
       "      <td>0</td>\n",
       "      <td>40</td>\n",
       "      <td>Cuba</td>\n",
       "      <td>&lt;=50K</td>\n",
       "    </tr>\n",
       "  </tbody>\n",
       "</table>\n",
       "</div>"
      ],
      "text/plain": [
       "   age         workclass  fnlwgt  education  education-num  \\\n",
       "0   39         State-gov   77516  Bachelors             13   \n",
       "1   50  Self-emp-not-inc   83311  Bachelors             13   \n",
       "2   38           Private  215646    HS-grad              9   \n",
       "3   53           Private  234721       11th              7   \n",
       "4   28           Private  338409  Bachelors             13   \n",
       "\n",
       "       marital-status         occupation   relationship   race     sex  \\\n",
       "0       Never-married       Adm-clerical  Not-in-family  White    Male   \n",
       "1  Married-civ-spouse    Exec-managerial        Husband  White    Male   \n",
       "2            Divorced  Handlers-cleaners  Not-in-family  White    Male   \n",
       "3  Married-civ-spouse  Handlers-cleaners        Husband  Black    Male   \n",
       "4  Married-civ-spouse     Prof-specialty           Wife  Black  Female   \n",
       "\n",
       "   capital-gain  capital-loss  hours-per-week native-country income  \n",
       "0          2174             0              40  United-States  <=50K  \n",
       "1             0             0              13  United-States  <=50K  \n",
       "2             0             0              40  United-States  <=50K  \n",
       "3             0             0              40  United-States  <=50K  \n",
       "4             0             0              40           Cuba  <=50K  "
      ]
     },
     "metadata": {},
     "execution_count": 6
    }
   ],
   "metadata": {}
  },
  {
   "cell_type": "code",
   "execution_count": 7,
   "source": [
    "adult.describe()"
   ],
   "outputs": [
    {
     "output_type": "execute_result",
     "data": {
      "text/html": [
       "<div>\n",
       "<style scoped>\n",
       "    .dataframe tbody tr th:only-of-type {\n",
       "        vertical-align: middle;\n",
       "    }\n",
       "\n",
       "    .dataframe tbody tr th {\n",
       "        vertical-align: top;\n",
       "    }\n",
       "\n",
       "    .dataframe thead th {\n",
       "        text-align: right;\n",
       "    }\n",
       "</style>\n",
       "<table border=\"1\" class=\"dataframe\">\n",
       "  <thead>\n",
       "    <tr style=\"text-align: right;\">\n",
       "      <th></th>\n",
       "      <th>age</th>\n",
       "      <th>fnlwgt</th>\n",
       "      <th>education-num</th>\n",
       "      <th>capital-gain</th>\n",
       "      <th>capital-loss</th>\n",
       "      <th>hours-per-week</th>\n",
       "    </tr>\n",
       "  </thead>\n",
       "  <tbody>\n",
       "    <tr>\n",
       "      <th>count</th>\n",
       "      <td>32561.000000</td>\n",
       "      <td>3.256100e+04</td>\n",
       "      <td>32561.000000</td>\n",
       "      <td>32561.000000</td>\n",
       "      <td>32561.000000</td>\n",
       "      <td>32561.000000</td>\n",
       "    </tr>\n",
       "    <tr>\n",
       "      <th>mean</th>\n",
       "      <td>38.581647</td>\n",
       "      <td>1.897784e+05</td>\n",
       "      <td>10.080679</td>\n",
       "      <td>1077.648844</td>\n",
       "      <td>87.303830</td>\n",
       "      <td>40.437456</td>\n",
       "    </tr>\n",
       "    <tr>\n",
       "      <th>std</th>\n",
       "      <td>13.640433</td>\n",
       "      <td>1.055500e+05</td>\n",
       "      <td>2.572720</td>\n",
       "      <td>7385.292085</td>\n",
       "      <td>402.960219</td>\n",
       "      <td>12.347429</td>\n",
       "    </tr>\n",
       "    <tr>\n",
       "      <th>min</th>\n",
       "      <td>17.000000</td>\n",
       "      <td>1.228500e+04</td>\n",
       "      <td>1.000000</td>\n",
       "      <td>0.000000</td>\n",
       "      <td>0.000000</td>\n",
       "      <td>1.000000</td>\n",
       "    </tr>\n",
       "    <tr>\n",
       "      <th>25%</th>\n",
       "      <td>28.000000</td>\n",
       "      <td>1.178270e+05</td>\n",
       "      <td>9.000000</td>\n",
       "      <td>0.000000</td>\n",
       "      <td>0.000000</td>\n",
       "      <td>40.000000</td>\n",
       "    </tr>\n",
       "    <tr>\n",
       "      <th>50%</th>\n",
       "      <td>37.000000</td>\n",
       "      <td>1.783560e+05</td>\n",
       "      <td>10.000000</td>\n",
       "      <td>0.000000</td>\n",
       "      <td>0.000000</td>\n",
       "      <td>40.000000</td>\n",
       "    </tr>\n",
       "    <tr>\n",
       "      <th>75%</th>\n",
       "      <td>48.000000</td>\n",
       "      <td>2.370510e+05</td>\n",
       "      <td>12.000000</td>\n",
       "      <td>0.000000</td>\n",
       "      <td>0.000000</td>\n",
       "      <td>45.000000</td>\n",
       "    </tr>\n",
       "    <tr>\n",
       "      <th>max</th>\n",
       "      <td>90.000000</td>\n",
       "      <td>1.484705e+06</td>\n",
       "      <td>16.000000</td>\n",
       "      <td>99999.000000</td>\n",
       "      <td>4356.000000</td>\n",
       "      <td>99.000000</td>\n",
       "    </tr>\n",
       "  </tbody>\n",
       "</table>\n",
       "</div>"
      ],
      "text/plain": [
       "                age        fnlwgt  education-num  capital-gain  capital-loss  \\\n",
       "count  32561.000000  3.256100e+04   32561.000000  32561.000000  32561.000000   \n",
       "mean      38.581647  1.897784e+05      10.080679   1077.648844     87.303830   \n",
       "std       13.640433  1.055500e+05       2.572720   7385.292085    402.960219   \n",
       "min       17.000000  1.228500e+04       1.000000      0.000000      0.000000   \n",
       "25%       28.000000  1.178270e+05       9.000000      0.000000      0.000000   \n",
       "50%       37.000000  1.783560e+05      10.000000      0.000000      0.000000   \n",
       "75%       48.000000  2.370510e+05      12.000000      0.000000      0.000000   \n",
       "max       90.000000  1.484705e+06      16.000000  99999.000000   4356.000000   \n",
       "\n",
       "       hours-per-week  \n",
       "count    32561.000000  \n",
       "mean        40.437456  \n",
       "std         12.347429  \n",
       "min          1.000000  \n",
       "25%         40.000000  \n",
       "50%         40.000000  \n",
       "75%         45.000000  \n",
       "max         99.000000  "
      ]
     },
     "metadata": {},
     "execution_count": 7
    }
   ],
   "metadata": {}
  },
  {
   "cell_type": "markdown",
   "source": [
    "It seems like there is no null data. However, if you read the description of the dataset, it says that there are missing parts represented as \"?\". You can count them by using the same technique we used for checking nulls in the previous lab. We have missing values in specific columns only, and it is about 5% of data records."
   ],
   "metadata": {}
  },
  {
   "cell_type": "code",
   "execution_count": 8,
   "source": [
    "(adult == \"?\").sum()"
   ],
   "outputs": [
    {
     "output_type": "execute_result",
     "data": {
      "text/plain": [
       "age                  0\n",
       "workclass         1836\n",
       "fnlwgt               0\n",
       "education            0\n",
       "education-num        0\n",
       "marital-status       0\n",
       "occupation        1843\n",
       "relationship         0\n",
       "race                 0\n",
       "sex                  0\n",
       "capital-gain         0\n",
       "capital-loss         0\n",
       "hours-per-week       0\n",
       "native-country     583\n",
       "income               0\n",
       "dtype: int64"
      ]
     },
     "metadata": {},
     "execution_count": 8
    }
   ],
   "metadata": {}
  },
  {
   "cell_type": "markdown",
   "source": [
    "#### Task 1: Drop missing values (0.1 pt)"
   ],
   "metadata": {}
  },
  {
   "cell_type": "markdown",
   "source": [
    "There are many ways to handle missing values, such as imputation or putting median/mean values, but we will practice the simplest way: removing the rows with missing values.\n",
    "\n",
    "- Complete the function below which removes any rows with missing values."
   ],
   "metadata": {}
  },
  {
   "cell_type": "code",
   "execution_count": 9,
   "source": [
    "def drop_missing_values(df, miss):\r\n",
    "    \"\"\"\r\n",
    "    Input: \r\n",
    "      df: the dataframe (adult in our case)\r\n",
    "      miss: a character to represent missing value (\"?\" in our case)\r\n",
    "      \r\n",
    "    Output: the dataframe without the missing values\r\n",
    "\r\n",
    "    Step 1: Replace the value 'miss' with np.nan.\r\n",
    "    Step 2: Drop the nan values and store the result in data_dropped.\r\n",
    "    Step 3: Return data_dropped\r\n",
    "    \r\n",
    "    \"\"\"\r\n",
    "    data_dropped = pd.DataFrame(adult[(adult[\"workclass\"] != '?') & (adult[\"occupation\"] != '?') & (adult[\"native-country\"] != '?')].replace(miss, np.nan)) # CHANGE IT\r\n",
    "    return data_dropped"
   ],
   "outputs": [],
   "metadata": {}
  },
  {
   "cell_type": "markdown",
   "source": [
    "Apply your function to our dataset `adult` and save the result to `adult_dropped`."
   ],
   "metadata": {}
  },
  {
   "cell_type": "code",
   "execution_count": 10,
   "source": [
    "adult_dropped = drop_missing_values(adult, \"?\")"
   ],
   "outputs": [],
   "metadata": {}
  },
  {
   "cell_type": "markdown",
   "source": [
    "The output of the function should have the same attributes but only less number of the rows. Check how many rows are removed. Your dataset should have 30,162 rows!"
   ],
   "metadata": {}
  },
  {
   "cell_type": "code",
   "execution_count": 11,
   "source": [
    "adult_dropped.shape"
   ],
   "outputs": [
    {
     "output_type": "execute_result",
     "data": {
      "text/plain": [
       "(30162, 15)"
      ]
     },
     "metadata": {},
     "execution_count": 11
    }
   ],
   "metadata": {}
  },
  {
   "cell_type": "markdown",
   "source": [
    "#### Task 2: Assign X and y (0.1 pt)"
   ],
   "metadata": {}
  },
  {
   "cell_type": "markdown",
   "source": [
    "Then let's split our dataset into two parts (`X` for attributes and `y` for labels) to use scikit-learn's various methods.\n",
    "- Use `adult_dropped`.\n",
    "- `X` should have all the attributes without the labels (the last column).\n",
    "- `y` should be a Pandas Series only with the labels."
   ],
   "metadata": {}
  },
  {
   "cell_type": "code",
   "execution_count": 12,
   "source": [
    "X = pd.DataFrame(adult_dropped.iloc[:,0:14]) # CHANGE IT!\r\n",
    "#y = pd.Series(adult_dropped.iloc[:,-1]) # CHANGE IT!\r\n",
    "y = pd.Series(adult_dropped['income']) # CHANGE IT!"
   ],
   "outputs": [],
   "metadata": {}
  },
  {
   "cell_type": "markdown",
   "source": [
    "Check the type and size here."
   ],
   "metadata": {}
  },
  {
   "cell_type": "code",
   "execution_count": 13,
   "source": [
    "(X.shape, y.shape, type(X), type(y))"
   ],
   "outputs": [
    {
     "output_type": "execute_result",
     "data": {
      "text/plain": [
       "((30162, 14), (30162,), pandas.core.frame.DataFrame, pandas.core.series.Series)"
      ]
     },
     "metadata": {},
     "execution_count": 13
    }
   ],
   "metadata": {}
  },
  {
   "cell_type": "markdown",
   "source": [
    "#### Task 3: One-hot encoding (0.1 pt)"
   ],
   "metadata": {}
  },
  {
   "cell_type": "markdown",
   "source": [
    "Unfortunately, scikit-learn does not support categorical attributes very well even for decision tree, and that means we need to convert them into reasonal form of numerical data to fit the algorithms. There is one way called one-hot encoding, which transforms the categorical data into multiple numerical columns for each possible value. There are various ways to apply this, especially using [scikit-learn](https://scikit-learn.org/stable/modules/generated/sklearn.preprocessing.OneHotEncoder.html) or [pandas](https://pandas.pydata.org/docs/reference/api/pandas.get_dummies.html) but here we will use the pandas function to keep the dataframe structure.\n",
    "\n",
    "- Finish one_hot_encoding function which applies one-hot encoding to a given dataframe.\n"
   ],
   "metadata": {}
  },
  {
   "cell_type": "code",
   "execution_count": 14,
   "source": [
    "def one_hot_encoding(df):\r\n",
    "    \"\"\"\r\n",
    "    Input:\r\n",
    "        df: the attributes (X in our case)\r\n",
    "    Output: one-hot encoded dataframe\r\n",
    "    \r\n",
    "    Step 1: Use pd.get_dummies to convert df to a one-hot-encoded form. \r\n",
    "            Enable an option called drop_first to remove duplication.\r\n",
    "    Step 2: Return the one-hot-encoded dataframe.\r\n",
    "    \r\n",
    "    * Those steps and suggested method are just for your convenience. You can use your own choice of methods.\r\n",
    "    \"\"\"\r\n",
    "    \r\n",
    "    df_onehot = pd.DataFrame(pd.get_dummies(df,drop_first=True))# CHANGE IT\r\n",
    "\r\n",
    "    return df_onehot"
   ],
   "outputs": [],
   "metadata": {}
  },
  {
   "cell_type": "markdown",
   "source": [
    "- Create `X_onehot` by calling `one_hot_encoding` function with `X`."
   ],
   "metadata": {}
  },
  {
   "cell_type": "code",
   "execution_count": 15,
   "source": [
    "X_onehot = one_hot_encoding(X)"
   ],
   "outputs": [],
   "metadata": {}
  },
  {
   "cell_type": "markdown",
   "source": [
    "Check your result by calling any methods you learned. If you successfully followed the instruction, the output (`X_onehot`) should have 96 columns."
   ],
   "metadata": {}
  },
  {
   "cell_type": "code",
   "execution_count": 16,
   "source": [
    "X_onehot.head()"
   ],
   "outputs": [
    {
     "output_type": "execute_result",
     "data": {
      "text/html": [
       "<div>\n",
       "<style scoped>\n",
       "    .dataframe tbody tr th:only-of-type {\n",
       "        vertical-align: middle;\n",
       "    }\n",
       "\n",
       "    .dataframe tbody tr th {\n",
       "        vertical-align: top;\n",
       "    }\n",
       "\n",
       "    .dataframe thead th {\n",
       "        text-align: right;\n",
       "    }\n",
       "</style>\n",
       "<table border=\"1\" class=\"dataframe\">\n",
       "  <thead>\n",
       "    <tr style=\"text-align: right;\">\n",
       "      <th></th>\n",
       "      <th>age</th>\n",
       "      <th>fnlwgt</th>\n",
       "      <th>education-num</th>\n",
       "      <th>capital-gain</th>\n",
       "      <th>capital-loss</th>\n",
       "      <th>hours-per-week</th>\n",
       "      <th>workclass_Local-gov</th>\n",
       "      <th>workclass_Private</th>\n",
       "      <th>workclass_Self-emp-inc</th>\n",
       "      <th>workclass_Self-emp-not-inc</th>\n",
       "      <th>...</th>\n",
       "      <th>native-country_Portugal</th>\n",
       "      <th>native-country_Puerto-Rico</th>\n",
       "      <th>native-country_Scotland</th>\n",
       "      <th>native-country_South</th>\n",
       "      <th>native-country_Taiwan</th>\n",
       "      <th>native-country_Thailand</th>\n",
       "      <th>native-country_Trinadad&amp;Tobago</th>\n",
       "      <th>native-country_United-States</th>\n",
       "      <th>native-country_Vietnam</th>\n",
       "      <th>native-country_Yugoslavia</th>\n",
       "    </tr>\n",
       "  </thead>\n",
       "  <tbody>\n",
       "    <tr>\n",
       "      <th>0</th>\n",
       "      <td>39</td>\n",
       "      <td>77516</td>\n",
       "      <td>13</td>\n",
       "      <td>2174</td>\n",
       "      <td>0</td>\n",
       "      <td>40</td>\n",
       "      <td>0</td>\n",
       "      <td>0</td>\n",
       "      <td>0</td>\n",
       "      <td>0</td>\n",
       "      <td>...</td>\n",
       "      <td>0</td>\n",
       "      <td>0</td>\n",
       "      <td>0</td>\n",
       "      <td>0</td>\n",
       "      <td>0</td>\n",
       "      <td>0</td>\n",
       "      <td>0</td>\n",
       "      <td>1</td>\n",
       "      <td>0</td>\n",
       "      <td>0</td>\n",
       "    </tr>\n",
       "    <tr>\n",
       "      <th>1</th>\n",
       "      <td>50</td>\n",
       "      <td>83311</td>\n",
       "      <td>13</td>\n",
       "      <td>0</td>\n",
       "      <td>0</td>\n",
       "      <td>13</td>\n",
       "      <td>0</td>\n",
       "      <td>0</td>\n",
       "      <td>0</td>\n",
       "      <td>1</td>\n",
       "      <td>...</td>\n",
       "      <td>0</td>\n",
       "      <td>0</td>\n",
       "      <td>0</td>\n",
       "      <td>0</td>\n",
       "      <td>0</td>\n",
       "      <td>0</td>\n",
       "      <td>0</td>\n",
       "      <td>1</td>\n",
       "      <td>0</td>\n",
       "      <td>0</td>\n",
       "    </tr>\n",
       "    <tr>\n",
       "      <th>2</th>\n",
       "      <td>38</td>\n",
       "      <td>215646</td>\n",
       "      <td>9</td>\n",
       "      <td>0</td>\n",
       "      <td>0</td>\n",
       "      <td>40</td>\n",
       "      <td>0</td>\n",
       "      <td>1</td>\n",
       "      <td>0</td>\n",
       "      <td>0</td>\n",
       "      <td>...</td>\n",
       "      <td>0</td>\n",
       "      <td>0</td>\n",
       "      <td>0</td>\n",
       "      <td>0</td>\n",
       "      <td>0</td>\n",
       "      <td>0</td>\n",
       "      <td>0</td>\n",
       "      <td>1</td>\n",
       "      <td>0</td>\n",
       "      <td>0</td>\n",
       "    </tr>\n",
       "    <tr>\n",
       "      <th>3</th>\n",
       "      <td>53</td>\n",
       "      <td>234721</td>\n",
       "      <td>7</td>\n",
       "      <td>0</td>\n",
       "      <td>0</td>\n",
       "      <td>40</td>\n",
       "      <td>0</td>\n",
       "      <td>1</td>\n",
       "      <td>0</td>\n",
       "      <td>0</td>\n",
       "      <td>...</td>\n",
       "      <td>0</td>\n",
       "      <td>0</td>\n",
       "      <td>0</td>\n",
       "      <td>0</td>\n",
       "      <td>0</td>\n",
       "      <td>0</td>\n",
       "      <td>0</td>\n",
       "      <td>1</td>\n",
       "      <td>0</td>\n",
       "      <td>0</td>\n",
       "    </tr>\n",
       "    <tr>\n",
       "      <th>4</th>\n",
       "      <td>28</td>\n",
       "      <td>338409</td>\n",
       "      <td>13</td>\n",
       "      <td>0</td>\n",
       "      <td>0</td>\n",
       "      <td>40</td>\n",
       "      <td>0</td>\n",
       "      <td>1</td>\n",
       "      <td>0</td>\n",
       "      <td>0</td>\n",
       "      <td>...</td>\n",
       "      <td>0</td>\n",
       "      <td>0</td>\n",
       "      <td>0</td>\n",
       "      <td>0</td>\n",
       "      <td>0</td>\n",
       "      <td>0</td>\n",
       "      <td>0</td>\n",
       "      <td>0</td>\n",
       "      <td>0</td>\n",
       "      <td>0</td>\n",
       "    </tr>\n",
       "  </tbody>\n",
       "</table>\n",
       "<p>5 rows × 96 columns</p>\n",
       "</div>"
      ],
      "text/plain": [
       "   age  fnlwgt  education-num  capital-gain  capital-loss  hours-per-week  \\\n",
       "0   39   77516             13          2174             0              40   \n",
       "1   50   83311             13             0             0              13   \n",
       "2   38  215646              9             0             0              40   \n",
       "3   53  234721              7             0             0              40   \n",
       "4   28  338409             13             0             0              40   \n",
       "\n",
       "   workclass_Local-gov  workclass_Private  workclass_Self-emp-inc  \\\n",
       "0                    0                  0                       0   \n",
       "1                    0                  0                       0   \n",
       "2                    0                  1                       0   \n",
       "3                    0                  1                       0   \n",
       "4                    0                  1                       0   \n",
       "\n",
       "   workclass_Self-emp-not-inc  ...  native-country_Portugal  \\\n",
       "0                           0  ...                        0   \n",
       "1                           1  ...                        0   \n",
       "2                           0  ...                        0   \n",
       "3                           0  ...                        0   \n",
       "4                           0  ...                        0   \n",
       "\n",
       "   native-country_Puerto-Rico  native-country_Scotland  native-country_South  \\\n",
       "0                           0                        0                     0   \n",
       "1                           0                        0                     0   \n",
       "2                           0                        0                     0   \n",
       "3                           0                        0                     0   \n",
       "4                           0                        0                     0   \n",
       "\n",
       "   native-country_Taiwan  native-country_Thailand  \\\n",
       "0                      0                        0   \n",
       "1                      0                        0   \n",
       "2                      0                        0   \n",
       "3                      0                        0   \n",
       "4                      0                        0   \n",
       "\n",
       "   native-country_Trinadad&Tobago  native-country_United-States  \\\n",
       "0                               0                             1   \n",
       "1                               0                             1   \n",
       "2                               0                             1   \n",
       "3                               0                             1   \n",
       "4                               0                             0   \n",
       "\n",
       "   native-country_Vietnam  native-country_Yugoslavia  \n",
       "0                       0                          0  \n",
       "1                       0                          0  \n",
       "2                       0                          0  \n",
       "3                       0                          0  \n",
       "4                       0                          0  \n",
       "\n",
       "[5 rows x 96 columns]"
      ]
     },
     "metadata": {},
     "execution_count": 16
    }
   ],
   "metadata": {}
  },
  {
   "cell_type": "markdown",
   "source": [
    "#### Task 4: Train test split (0.2 pt)"
   ],
   "metadata": {}
  },
  {
   "cell_type": "markdown",
   "source": [
    "We also need to split our dataset further into four parts for evaluation."
   ],
   "metadata": {}
  },
  {
   "cell_type": "markdown",
   "source": [
    "- Use scikit-learn's `train_test_split` function to divide the dataset into four parts.\n",
    "- Follow the instruction below carefully to get a point!.\n",
    "    - Use `X_onehot` and `y`.\n",
    "    - Assign 30% to a test set.\n",
    "    - Use our random state (`RANDOM_STATE`)\n",
    "    - Enable stratify option."
   ],
   "metadata": {}
  },
  {
   "cell_type": "code",
   "execution_count": 17,
   "source": [
    "# Remove the assigned values and write train_test_split function\r\n",
    "#X_train, X_test, y_train, y_test = (pd.DataFrame(), pd.Series(0), pd.DataFrame(), pd.Series(0))\r\n",
    "X_train, X_test, y_train, y_test = train_test_split(X_onehot,y, test_size=0.3, random_state=RANDOM_STATE, stratify=y)"
   ],
   "outputs": [],
   "metadata": {}
  },
  {
   "cell_type": "markdown",
   "source": [
    "Check the type and size here."
   ],
   "metadata": {}
  },
  {
   "cell_type": "code",
   "execution_count": 18,
   "source": [
    "(X_train.shape, X_test.shape, y_train.shape, y_test.shape)"
   ],
   "outputs": [
    {
     "output_type": "execute_result",
     "data": {
      "text/plain": [
       "((21113, 96), (9049, 96), (21113,), (9049,))"
      ]
     },
     "metadata": {},
     "execution_count": 18
    }
   ],
   "metadata": {}
  },
  {
   "cell_type": "markdown",
   "source": [
    "After removing the missing value and split X and y, we need to take care of our numerical attributes. As you can check from `describe()` function, we have five numerical attributes and they all have different mean and standard deviation. Not all machine learning models require standardization of numerical attributes, but some do. In this homework, SVM might be the case that the standardization is required. It might be better to make standardized version when performing data preparation. \n",
    "\n",
    "- One-hot encoded data does not need to be standardized! So you need to choose the numerical columns only\n",
    " - [\"age\", \"fnlwgt\",  \"education-num\", \"capital-gain\", \"capital-loss\", \"hours-per-week\"]\n",
    " \n",
    "- For this task, you need to import sklearn's `StandardScaler`."
   ],
   "metadata": {}
  },
  {
   "cell_type": "markdown",
   "source": [
    "#### Task 5: Standardization (0.2 pt)"
   ],
   "metadata": {}
  },
  {
   "cell_type": "code",
   "execution_count": 19,
   "source": [
    "from sklearn.preprocessing import StandardScaler"
   ],
   "outputs": [],
   "metadata": {}
  },
  {
   "cell_type": "code",
   "execution_count": 20,
   "source": [
    "def standardize(X_train, X_test, numerical):\r\n",
    "    \"\"\"\r\n",
    "    Input:\r\n",
    "        - X_train: A split training set from Task 4\r\n",
    "        - X_test: A split test set from Task 5\r\n",
    "        - numerical: Numerical columns that should be standardized\r\n",
    "    Output:\r\n",
    "        - X_train_st: A standardized numerical attributes (ndarray)\r\n",
    "        - X_test_st: A standardized numerical attributes (ndarray)\r\n",
    "    \r\n",
    "    Step 1: Initialize StandardScaler.\r\n",
    "    Step 2: Create X_train_numerical, X_test_numerical by selecting numerical columns from original X_train X_test.\r\n",
    "    Step 3: Fit StandardScaler on X_train. You should only use the numerical columns only.\r\n",
    "    Step 4: Use trained StandardScaler and run transform function both on X_train_st (for the training set) \r\n",
    "            and X_test_st (for the test set). This job will standardize both training and test sets based on\r\n",
    "            the statistics of training set. You should only use numerical attributes.\r\n",
    "    Step 5: Return X_train_st, X_test_st\r\n",
    "    \r\n",
    "    \"\"\"\r\n",
    "    \r\n",
    "    # Step 1\r\n",
    "    sc =StandardScaler()# None # CHANGE IT\r\n",
    "    \r\n",
    "    # Step 2\r\n",
    "    X_train_numeric=X_train[numerical]#None # CHANGE IT\r\n",
    "    X_test_numeric =X_test[numerical]#None # CHANGE IT\r\n",
    "    \r\n",
    "    # Step 3\r\n",
    "    \r\n",
    "    \r\n",
    "    # Step 4\r\n",
    "    # Assign two outputs of transformation function to X_train_st (for the training set) and X_test_st (for the test set)\r\n",
    "    X_train_st = sc.fit_transform(X_train_numeric)\r\n",
    "    #print(X_train_st.std(axis=0))#None # CHANGE IT\r\n",
    "    X_test_st = sc.fit_transform(X_test_numeric)\r\n",
    "    #print(X_test_st.std(axis =0))#None # CHANGE IT\r\n",
    "    \r\n",
    "    # Step 5\r\n",
    "    # Note that those two variable should only contain numerical attributes, not the whole ones.\r\n",
    "    return X_train_st, X_test_st"
   ],
   "outputs": [],
   "metadata": {}
  },
  {
   "cell_type": "code",
   "execution_count": 21,
   "source": [
    "def standardize_wrapper(X_train, X_test, numerical):\r\n",
    "    # DO NOT CHANGE THIS FUNCTION\r\n",
    "    # This function is to ensure that the datasets keep the Pandas DataFrame format.\r\n",
    "    if X_train.shape == (0, 0): return pd.DataFrame([0]), pd.DataFrame([0])\r\n",
    "    \r\n",
    "    X_train_st, X_test_st = standardize(X_train, X_test, numerical)\r\n",
    "    \r\n",
    "    X_train_st_df = X_train.copy()\r\n",
    "    X_train_st_df[numerical] = X_train_st\r\n",
    "    X_test_st_df = X_test.copy()\r\n",
    "    X_test_st_df[numerical] = X_test_st\r\n",
    "    \r\n",
    "    return X_train_st_df, X_test_st_df"
   ],
   "outputs": [],
   "metadata": {}
  },
  {
   "cell_type": "markdown",
   "source": [
    "The line below will apply your standardization function to the datasets. Run the block and check the result. \n",
    "DO NOT change `standardize_wrapper`, just implement `standardize`."
   ],
   "metadata": {}
  },
  {
   "cell_type": "code",
   "execution_count": 22,
   "source": [
    "# Make a list for numerical attributes: \"age\", \"fnlwgt\", \"education-num\", \"capital-gain\", \"capital-loss\", \"hours-per-week\"\r\n",
    "numerical =[\"age\", \"fnlwgt\", \"education-num\", \"capital-gain\", \"capital-loss\", \"hours-per-week\"] #None # CHANGE IT\r\n",
    "X_train_st, X_test_st = standardize_wrapper(X_train, X_test, numerical)"
   ],
   "outputs": [],
   "metadata": {}
  },
  {
   "cell_type": "markdown",
   "source": [
    "Your numerical attributes ([\"age\", \"fnlwgt\", \"education-num\", \"capital-gain\", \"capital-loss\", \"hours-per-week\"]) should have near zero mean and one standard deviation."
   ],
   "metadata": {}
  },
  {
   "cell_type": "code",
   "execution_count": 23,
   "source": [
    "X_train_st.describe()"
   ],
   "outputs": [
    {
     "output_type": "execute_result",
     "data": {
      "text/html": [
       "<div>\n",
       "<style scoped>\n",
       "    .dataframe tbody tr th:only-of-type {\n",
       "        vertical-align: middle;\n",
       "    }\n",
       "\n",
       "    .dataframe tbody tr th {\n",
       "        vertical-align: top;\n",
       "    }\n",
       "\n",
       "    .dataframe thead th {\n",
       "        text-align: right;\n",
       "    }\n",
       "</style>\n",
       "<table border=\"1\" class=\"dataframe\">\n",
       "  <thead>\n",
       "    <tr style=\"text-align: right;\">\n",
       "      <th></th>\n",
       "      <th>age</th>\n",
       "      <th>fnlwgt</th>\n",
       "      <th>education-num</th>\n",
       "      <th>capital-gain</th>\n",
       "      <th>capital-loss</th>\n",
       "      <th>hours-per-week</th>\n",
       "      <th>workclass_Local-gov</th>\n",
       "      <th>workclass_Private</th>\n",
       "      <th>workclass_Self-emp-inc</th>\n",
       "      <th>workclass_Self-emp-not-inc</th>\n",
       "      <th>...</th>\n",
       "      <th>native-country_Portugal</th>\n",
       "      <th>native-country_Puerto-Rico</th>\n",
       "      <th>native-country_Scotland</th>\n",
       "      <th>native-country_South</th>\n",
       "      <th>native-country_Taiwan</th>\n",
       "      <th>native-country_Thailand</th>\n",
       "      <th>native-country_Trinadad&amp;Tobago</th>\n",
       "      <th>native-country_United-States</th>\n",
       "      <th>native-country_Vietnam</th>\n",
       "      <th>native-country_Yugoslavia</th>\n",
       "    </tr>\n",
       "  </thead>\n",
       "  <tbody>\n",
       "    <tr>\n",
       "      <th>count</th>\n",
       "      <td>2.111300e+04</td>\n",
       "      <td>2.111300e+04</td>\n",
       "      <td>2.111300e+04</td>\n",
       "      <td>2.111300e+04</td>\n",
       "      <td>2.111300e+04</td>\n",
       "      <td>2.111300e+04</td>\n",
       "      <td>21113.000000</td>\n",
       "      <td>21113.000000</td>\n",
       "      <td>21113.000000</td>\n",
       "      <td>21113.000000</td>\n",
       "      <td>...</td>\n",
       "      <td>21113.000000</td>\n",
       "      <td>21113.000000</td>\n",
       "      <td>21113.000000</td>\n",
       "      <td>21113.000000</td>\n",
       "      <td>21113.000000</td>\n",
       "      <td>21113.000000</td>\n",
       "      <td>21113.000000</td>\n",
       "      <td>21113.000000</td>\n",
       "      <td>21113.000000</td>\n",
       "      <td>21113.000000</td>\n",
       "    </tr>\n",
       "    <tr>\n",
       "      <th>mean</th>\n",
       "      <td>1.760119e-16</td>\n",
       "      <td>1.110591e-17</td>\n",
       "      <td>-6.966435e-17</td>\n",
       "      <td>1.228381e-17</td>\n",
       "      <td>-5.216413e-17</td>\n",
       "      <td>-2.386088e-16</td>\n",
       "      <td>0.069673</td>\n",
       "      <td>0.739734</td>\n",
       "      <td>0.034718</td>\n",
       "      <td>0.081040</td>\n",
       "      <td>...</td>\n",
       "      <td>0.001374</td>\n",
       "      <td>0.003694</td>\n",
       "      <td>0.000332</td>\n",
       "      <td>0.002416</td>\n",
       "      <td>0.001326</td>\n",
       "      <td>0.000568</td>\n",
       "      <td>0.000474</td>\n",
       "      <td>0.911524</td>\n",
       "      <td>0.001658</td>\n",
       "      <td>0.000568</td>\n",
       "    </tr>\n",
       "    <tr>\n",
       "      <th>std</th>\n",
       "      <td>1.000024e+00</td>\n",
       "      <td>1.000024e+00</td>\n",
       "      <td>1.000024e+00</td>\n",
       "      <td>1.000024e+00</td>\n",
       "      <td>1.000024e+00</td>\n",
       "      <td>1.000024e+00</td>\n",
       "      <td>0.254601</td>\n",
       "      <td>0.438790</td>\n",
       "      <td>0.183069</td>\n",
       "      <td>0.272903</td>\n",
       "      <td>...</td>\n",
       "      <td>0.037037</td>\n",
       "      <td>0.060671</td>\n",
       "      <td>0.018206</td>\n",
       "      <td>0.049090</td>\n",
       "      <td>0.036394</td>\n",
       "      <td>0.023834</td>\n",
       "      <td>0.021759</td>\n",
       "      <td>0.283993</td>\n",
       "      <td>0.040683</td>\n",
       "      <td>0.023834</td>\n",
       "    </tr>\n",
       "    <tr>\n",
       "      <th>min</th>\n",
       "      <td>-1.633523e+00</td>\n",
       "      <td>-1.674023e+00</td>\n",
       "      <td>-3.581744e+00</td>\n",
       "      <td>-1.468402e-01</td>\n",
       "      <td>-2.159858e-01</td>\n",
       "      <td>-3.313280e+00</td>\n",
       "      <td>0.000000</td>\n",
       "      <td>0.000000</td>\n",
       "      <td>0.000000</td>\n",
       "      <td>0.000000</td>\n",
       "      <td>...</td>\n",
       "      <td>0.000000</td>\n",
       "      <td>0.000000</td>\n",
       "      <td>0.000000</td>\n",
       "      <td>0.000000</td>\n",
       "      <td>0.000000</td>\n",
       "      <td>0.000000</td>\n",
       "      <td>0.000000</td>\n",
       "      <td>0.000000</td>\n",
       "      <td>0.000000</td>\n",
       "      <td>0.000000</td>\n",
       "    </tr>\n",
       "    <tr>\n",
       "      <th>25%</th>\n",
       "      <td>-7.973943e-01</td>\n",
       "      <td>-6.843151e-01</td>\n",
       "      <td>-4.404088e-01</td>\n",
       "      <td>-1.468402e-01</td>\n",
       "      <td>-2.159858e-01</td>\n",
       "      <td>-7.607792e-02</td>\n",
       "      <td>0.000000</td>\n",
       "      <td>0.000000</td>\n",
       "      <td>0.000000</td>\n",
       "      <td>0.000000</td>\n",
       "      <td>...</td>\n",
       "      <td>0.000000</td>\n",
       "      <td>0.000000</td>\n",
       "      <td>0.000000</td>\n",
       "      <td>0.000000</td>\n",
       "      <td>0.000000</td>\n",
       "      <td>0.000000</td>\n",
       "      <td>0.000000</td>\n",
       "      <td>1.000000</td>\n",
       "      <td>0.000000</td>\n",
       "      <td>0.000000</td>\n",
       "    </tr>\n",
       "    <tr>\n",
       "      <th>50%</th>\n",
       "      <td>-1.132886e-01</td>\n",
       "      <td>-1.077691e-01</td>\n",
       "      <td>-4.774195e-02</td>\n",
       "      <td>-1.468402e-01</td>\n",
       "      <td>-2.159858e-01</td>\n",
       "      <td>-7.607792e-02</td>\n",
       "      <td>0.000000</td>\n",
       "      <td>1.000000</td>\n",
       "      <td>0.000000</td>\n",
       "      <td>0.000000</td>\n",
       "      <td>...</td>\n",
       "      <td>0.000000</td>\n",
       "      <td>0.000000</td>\n",
       "      <td>0.000000</td>\n",
       "      <td>0.000000</td>\n",
       "      <td>0.000000</td>\n",
       "      <td>0.000000</td>\n",
       "      <td>0.000000</td>\n",
       "      <td>1.000000</td>\n",
       "      <td>0.000000</td>\n",
       "      <td>0.000000</td>\n",
       "    </tr>\n",
       "    <tr>\n",
       "      <th>75%</th>\n",
       "      <td>6.468289e-01</td>\n",
       "      <td>4.460466e-01</td>\n",
       "      <td>1.130259e+00</td>\n",
       "      <td>-1.468402e-01</td>\n",
       "      <td>-2.159858e-01</td>\n",
       "      <td>3.389479e-01</td>\n",
       "      <td>0.000000</td>\n",
       "      <td>1.000000</td>\n",
       "      <td>0.000000</td>\n",
       "      <td>0.000000</td>\n",
       "      <td>...</td>\n",
       "      <td>0.000000</td>\n",
       "      <td>0.000000</td>\n",
       "      <td>0.000000</td>\n",
       "      <td>0.000000</td>\n",
       "      <td>0.000000</td>\n",
       "      <td>0.000000</td>\n",
       "      <td>0.000000</td>\n",
       "      <td>1.000000</td>\n",
       "      <td>0.000000</td>\n",
       "      <td>0.000000</td>\n",
       "    </tr>\n",
       "    <tr>\n",
       "      <th>max</th>\n",
       "      <td>3.915334e+00</td>\n",
       "      <td>1.232133e+01</td>\n",
       "      <td>2.308259e+00</td>\n",
       "      <td>1.334760e+01</td>\n",
       "      <td>9.587298e+00</td>\n",
       "      <td>4.821227e+00</td>\n",
       "      <td>1.000000</td>\n",
       "      <td>1.000000</td>\n",
       "      <td>1.000000</td>\n",
       "      <td>1.000000</td>\n",
       "      <td>...</td>\n",
       "      <td>1.000000</td>\n",
       "      <td>1.000000</td>\n",
       "      <td>1.000000</td>\n",
       "      <td>1.000000</td>\n",
       "      <td>1.000000</td>\n",
       "      <td>1.000000</td>\n",
       "      <td>1.000000</td>\n",
       "      <td>1.000000</td>\n",
       "      <td>1.000000</td>\n",
       "      <td>1.000000</td>\n",
       "    </tr>\n",
       "  </tbody>\n",
       "</table>\n",
       "<p>8 rows × 96 columns</p>\n",
       "</div>"
      ],
      "text/plain": [
       "                age        fnlwgt  education-num  capital-gain  capital-loss  \\\n",
       "count  2.111300e+04  2.111300e+04   2.111300e+04  2.111300e+04  2.111300e+04   \n",
       "mean   1.760119e-16  1.110591e-17  -6.966435e-17  1.228381e-17 -5.216413e-17   \n",
       "std    1.000024e+00  1.000024e+00   1.000024e+00  1.000024e+00  1.000024e+00   \n",
       "min   -1.633523e+00 -1.674023e+00  -3.581744e+00 -1.468402e-01 -2.159858e-01   \n",
       "25%   -7.973943e-01 -6.843151e-01  -4.404088e-01 -1.468402e-01 -2.159858e-01   \n",
       "50%   -1.132886e-01 -1.077691e-01  -4.774195e-02 -1.468402e-01 -2.159858e-01   \n",
       "75%    6.468289e-01  4.460466e-01   1.130259e+00 -1.468402e-01 -2.159858e-01   \n",
       "max    3.915334e+00  1.232133e+01   2.308259e+00  1.334760e+01  9.587298e+00   \n",
       "\n",
       "       hours-per-week  workclass_Local-gov  workclass_Private  \\\n",
       "count    2.111300e+04         21113.000000       21113.000000   \n",
       "mean    -2.386088e-16             0.069673           0.739734   \n",
       "std      1.000024e+00             0.254601           0.438790   \n",
       "min     -3.313280e+00             0.000000           0.000000   \n",
       "25%     -7.607792e-02             0.000000           0.000000   \n",
       "50%     -7.607792e-02             0.000000           1.000000   \n",
       "75%      3.389479e-01             0.000000           1.000000   \n",
       "max      4.821227e+00             1.000000           1.000000   \n",
       "\n",
       "       workclass_Self-emp-inc  workclass_Self-emp-not-inc  ...  \\\n",
       "count            21113.000000                21113.000000  ...   \n",
       "mean                 0.034718                    0.081040  ...   \n",
       "std                  0.183069                    0.272903  ...   \n",
       "min                  0.000000                    0.000000  ...   \n",
       "25%                  0.000000                    0.000000  ...   \n",
       "50%                  0.000000                    0.000000  ...   \n",
       "75%                  0.000000                    0.000000  ...   \n",
       "max                  1.000000                    1.000000  ...   \n",
       "\n",
       "       native-country_Portugal  native-country_Puerto-Rico  \\\n",
       "count             21113.000000                21113.000000   \n",
       "mean                  0.001374                    0.003694   \n",
       "std                   0.037037                    0.060671   \n",
       "min                   0.000000                    0.000000   \n",
       "25%                   0.000000                    0.000000   \n",
       "50%                   0.000000                    0.000000   \n",
       "75%                   0.000000                    0.000000   \n",
       "max                   1.000000                    1.000000   \n",
       "\n",
       "       native-country_Scotland  native-country_South  native-country_Taiwan  \\\n",
       "count             21113.000000          21113.000000           21113.000000   \n",
       "mean                  0.000332              0.002416               0.001326   \n",
       "std                   0.018206              0.049090               0.036394   \n",
       "min                   0.000000              0.000000               0.000000   \n",
       "25%                   0.000000              0.000000               0.000000   \n",
       "50%                   0.000000              0.000000               0.000000   \n",
       "75%                   0.000000              0.000000               0.000000   \n",
       "max                   1.000000              1.000000               1.000000   \n",
       "\n",
       "       native-country_Thailand  native-country_Trinadad&Tobago  \\\n",
       "count             21113.000000                    21113.000000   \n",
       "mean                  0.000568                        0.000474   \n",
       "std                   0.023834                        0.021759   \n",
       "min                   0.000000                        0.000000   \n",
       "25%                   0.000000                        0.000000   \n",
       "50%                   0.000000                        0.000000   \n",
       "75%                   0.000000                        0.000000   \n",
       "max                   1.000000                        1.000000   \n",
       "\n",
       "       native-country_United-States  native-country_Vietnam  \\\n",
       "count                  21113.000000            21113.000000   \n",
       "mean                       0.911524                0.001658   \n",
       "std                        0.283993                0.040683   \n",
       "min                        0.000000                0.000000   \n",
       "25%                        1.000000                0.000000   \n",
       "50%                        1.000000                0.000000   \n",
       "75%                        1.000000                0.000000   \n",
       "max                        1.000000                1.000000   \n",
       "\n",
       "       native-country_Yugoslavia  \n",
       "count               21113.000000  \n",
       "mean                    0.000568  \n",
       "std                     0.023834  \n",
       "min                     0.000000  \n",
       "25%                     0.000000  \n",
       "50%                     0.000000  \n",
       "75%                     0.000000  \n",
       "max                     1.000000  \n",
       "\n",
       "[8 rows x 96 columns]"
      ]
     },
     "metadata": {},
     "execution_count": 23
    }
   ],
   "metadata": {}
  },
  {
   "cell_type": "markdown",
   "source": [
    "After finishing a simple data processing, let's proceed to our main task, classification."
   ],
   "metadata": {}
  },
  {
   "cell_type": "markdown",
   "source": [
    "# 1. Classification"
   ],
   "metadata": {}
  },
  {
   "cell_type": "markdown",
   "source": [
    "In this assignment, we will run random forest (RF), and support vector machine (SVM) with different kernels using scikit-learn. Then we will implement score functions for decision trees and main functions for random forests to understand the concepts better. We will continue to use the pre-processed Adult dataset from the section zero (Task 1-5)."
   ],
   "metadata": {}
  },
  {
   "cell_type": "markdown",
   "source": [
    "#### Task 6: Random forest (graded, 0.5 pt)"
   ],
   "metadata": {}
  },
  {
   "cell_type": "markdown",
   "source": [
    "Here you will run the random forest algorithm using scikit-learn, together with cross-validation. Detailed information about the random forest in scikit-learn can be found [here](https://scikit-learn.org/stable/modules/generated/sklearn.ensemble.RandomForestClassifier.html).\n",
    "\n",
    "Your task is as follows:\n",
    " 1. Create a random forest classifier `rf` with the random state defined above (`RANDOM_STATE`). Do not specify any other parameters.\n",
    " 2. Report an average cross-validation score `rf_cross_val_score` with stratified k-fold with **cv=5**. You should report the average score, not a list of the scores. Use `X_onehot` and `y`, not the training or test set (0.2 pt). \n",
    " - ***Note that you are reporting an average cross validation score, not a list of scores.***\n",
    "\n",
    " 3. Run grid search `gs` with a single dictionary `grid_dict` with two keys 1) max_depth from 1 to 3 (included), and 2) min_samples_split from 2 to 4 (included) and report the best classifier into the variable `rf_best_classifier`. Set **cv=5** for grid search cross-validation. Since grid search uses stratified k-fold inside, you should put a complete dataset, not a split training set (Use `X_onehot` and `y`). This task can take more than five minutes depending on computing power (0.3 pt)."
   ],
   "metadata": {}
  },
  {
   "cell_type": "code",
   "execution_count": 24,
   "source": [
    "grid_dict =[\r\n",
    "    {'max_depth':[1,2,3],\r\n",
    "     'min_samples_split':[2,3,4]}\r\n",
    "     ]# None # CHANGE IT"
   ],
   "outputs": [],
   "metadata": {}
  },
  {
   "cell_type": "code",
   "execution_count": 25,
   "source": [
    "rf = RandomForestClassifier(random_state=RANDOM_STATE)\r\n",
    "\r\n",
    "#None # CHANGE IT"
   ],
   "outputs": [],
   "metadata": {}
  },
  {
   "cell_type": "code",
   "execution_count": 26,
   "source": [
    "\r\n",
    "rf_cross_val_score =np.mean(cross_val_score(rf, X_onehot,y, cv=5))#None # CHANGE IT"
   ],
   "outputs": [],
   "metadata": {}
  },
  {
   "cell_type": "markdown",
   "source": [
    "Run this line to check your score. Your score should be above 0.80."
   ],
   "metadata": {}
  },
  {
   "cell_type": "code",
   "execution_count": 27,
   "source": [
    "rf_cross_val_score"
   ],
   "outputs": [
    {
     "output_type": "execute_result",
     "data": {
      "text/plain": [
       "0.8500763484302297"
      ]
     },
     "metadata": {},
     "execution_count": 27
    }
   ],
   "metadata": {}
  },
  {
   "cell_type": "code",
   "execution_count": 28,
   "source": [
    "gs =GridSearchCV(rf,grid_dict,cv=5)\r\n",
    "gs.fit(X_onehot, y)# None # CHANGE IT"
   ],
   "outputs": [
    {
     "output_type": "execute_result",
     "data": {
      "text/plain": [
       "GridSearchCV(cv=5, estimator=RandomForestClassifier(random_state=12345),\n",
       "             param_grid=[{'max_depth': [1, 2, 3],\n",
       "                          'min_samples_split': [2, 3, 4]}])"
      ]
     },
     "metadata": {},
     "execution_count": 28
    }
   ],
   "metadata": {}
  },
  {
   "cell_type": "code",
   "execution_count": 29,
   "source": [
    "rf_best_classifier =gs.best_estimator_#None # CHANGE IT"
   ],
   "outputs": [],
   "metadata": {}
  },
  {
   "cell_type": "markdown",
   "source": [
    "Report your best classifier here."
   ],
   "metadata": {}
  },
  {
   "cell_type": "code",
   "execution_count": 30,
   "source": [
    "rf_best_classifier"
   ],
   "outputs": [
    {
     "output_type": "execute_result",
     "data": {
      "text/plain": [
       "RandomForestClassifier(max_depth=3, random_state=12345)"
      ]
     },
     "metadata": {},
     "execution_count": 30
    }
   ],
   "metadata": {}
  },
  {
   "cell_type": "markdown",
   "source": [
    "#### Task 7: SVM with diverse kernels (graded, 0.4 pt)"
   ],
   "metadata": {}
  },
  {
   "cell_type": "markdown",
   "source": [
    "We already tried a simple SVC with the RBF kernel before. Here you will run SVM again, but with different kernels, and together with cross-validation. Detailed information about SVC in scikit-learn can be found [here](https://scikit-learn.org/stable/modules/generated/sklearn.svm.SVC.html#sklearn.svm.SVC).\r\n",
    "\r\n",
    "Your task is as follows:\r\n",
    "\r\n",
    "  1. Create a standard SVC classifier `svc` without setting any parameter.\r\n",
    "  2. Report a test score to `svm_ho_score` using your standardized training set `X_train_st`. and test set `X_test_st` (0.1 pt).\r\n",
    "  3. Run grid search with a list of two parameter dictionaries, one with kernel = ['linear', 'poly', 'rbf'] and the other one with C = [1, 10, 100]. This means you have to create a list containing two different dictionaries. Report the best classifier into the variable `svm_best_classifier`. Set **cv=3** for grid search cross-validation. Use `X_train_st` and `y_train`. This task can take more than five minutes depending on computing power (0.3 pt)."
   ],
   "metadata": {}
  },
  {
   "cell_type": "code",
   "execution_count": 31,
   "source": [
    "svc =SVC()\r\n",
    "svc.fit(X_train_st,y_train)# None # CHANGE IT"
   ],
   "outputs": [
    {
     "output_type": "execute_result",
     "data": {
      "text/plain": [
       "SVC()"
      ]
     },
     "metadata": {},
     "execution_count": 31
    }
   ],
   "metadata": {}
  },
  {
   "cell_type": "code",
   "execution_count": 32,
   "source": [
    "svm_ho_score = svc.score(X_test_st,y_test)#None # CHANGE IT"
   ],
   "outputs": [],
   "metadata": {}
  },
  {
   "cell_type": "markdown",
   "source": [
    "Run this line to check your score. Your score should be above 0.80."
   ],
   "metadata": {}
  },
  {
   "cell_type": "code",
   "execution_count": 33,
   "source": [
    "svm_ho_score"
   ],
   "outputs": [
    {
     "output_type": "execute_result",
     "data": {
      "text/plain": [
       "0.8526909050723837"
      ]
     },
     "metadata": {},
     "execution_count": 33
    }
   ],
   "metadata": {}
  },
  {
   "cell_type": "code",
   "execution_count": 34,
   "source": [
    "grid_dict = {'kernel':['linear', 'poly', 'rbf'],\r\n",
    "              'C':[1, 10, 100]}#None # CHANGE IT\r\n",
    "gs = GridSearchCV(svc, grid_dict, cv=3)\r\n",
    "gs.fit(X_train_st,y_train)#None # CHANGE IT\r\n",
    "svm_best_classifier =gs.best_estimator_#None # CHANGE IT"
   ],
   "outputs": [],
   "metadata": {}
  },
  {
   "cell_type": "code",
   "execution_count": 35,
   "source": [
    "svm_best_classifier"
   ],
   "outputs": [
    {
     "output_type": "execute_result",
     "data": {
      "text/plain": [
       "SVC(C=1)"
      ]
     },
     "metadata": {},
     "execution_count": 35
    }
   ],
   "metadata": {}
  },
  {
   "cell_type": "markdown",
   "source": [
    "#### Task 8: Decision tree and Random Forest (2.0 pt)"
   ],
   "metadata": {}
  },
  {
   "cell_type": "markdown",
   "source": [
    "We will now implement a few modules for decision tree and random forest. Follow the instruction carefully so that you can return a correct result. This task is composed of two subtasks as follows:\n",
    "\n",
    "  - 8-1. Entropy, gini index, and information gain (0.7 pt)\n",
    "  - 8-2. Random forest implementation (1.3 pt)"
   ],
   "metadata": {}
  },
  {
   "cell_type": "markdown",
   "source": [
    "First section of this task is to create three functions used to evaluate and grow the tree, which are covered in the lecture. Entropy, gini index are two main scores used for it. Information gain is the final score to choose a feature for dividing the node. Those scores are essencial for decision tree to work properly and a wrong score can lead to choosing the features that are not proper for creating a high-performing tree.\n",
    "\n",
    "- For simplicity, you will not use the **adult** dataset in this task but will use a simple **playgolf** dataset with categorical attributes.\n",
    "\n",
    "- Task 8 is a continuous task and the grade is evaluated by the result of the function. Since one function calls other functions in the task, failing to develop one function can affect the whole grade."
   ],
   "metadata": {}
  },
  {
   "cell_type": "markdown",
   "source": [
    "Import playgolf dataset to `playgolf`. You can find it in the homework file."
   ],
   "metadata": {}
  },
  {
   "cell_type": "code",
   "execution_count": 36,
   "source": [
    "playgolf = pd.read_csv('datasets/playgolf.csv')"
   ],
   "outputs": [],
   "metadata": {}
  },
  {
   "cell_type": "code",
   "execution_count": 37,
   "source": [
    "playgolf.columns"
   ],
   "outputs": [
    {
     "output_type": "execute_result",
     "data": {
      "text/plain": [
       "Index(['Outlook', 'Temp', 'Humidity', 'Windy', 'Play Golf'], dtype='object')"
      ]
     },
     "metadata": {},
     "execution_count": 37
    }
   ],
   "metadata": {}
  },
  {
   "cell_type": "code",
   "execution_count": 38,
   "source": [
    "playgolf.head()"
   ],
   "outputs": [
    {
     "output_type": "execute_result",
     "data": {
      "text/html": [
       "<div>\n",
       "<style scoped>\n",
       "    .dataframe tbody tr th:only-of-type {\n",
       "        vertical-align: middle;\n",
       "    }\n",
       "\n",
       "    .dataframe tbody tr th {\n",
       "        vertical-align: top;\n",
       "    }\n",
       "\n",
       "    .dataframe thead th {\n",
       "        text-align: right;\n",
       "    }\n",
       "</style>\n",
       "<table border=\"1\" class=\"dataframe\">\n",
       "  <thead>\n",
       "    <tr style=\"text-align: right;\">\n",
       "      <th></th>\n",
       "      <th>Outlook</th>\n",
       "      <th>Temp</th>\n",
       "      <th>Humidity</th>\n",
       "      <th>Windy</th>\n",
       "      <th>Play Golf</th>\n",
       "    </tr>\n",
       "  </thead>\n",
       "  <tbody>\n",
       "    <tr>\n",
       "      <th>0</th>\n",
       "      <td>Rainy</td>\n",
       "      <td>Hot</td>\n",
       "      <td>High</td>\n",
       "      <td>False</td>\n",
       "      <td>No</td>\n",
       "    </tr>\n",
       "    <tr>\n",
       "      <th>1</th>\n",
       "      <td>Rainy</td>\n",
       "      <td>Hot</td>\n",
       "      <td>High</td>\n",
       "      <td>True</td>\n",
       "      <td>No</td>\n",
       "    </tr>\n",
       "    <tr>\n",
       "      <th>2</th>\n",
       "      <td>Overcast</td>\n",
       "      <td>Hot</td>\n",
       "      <td>High</td>\n",
       "      <td>False</td>\n",
       "      <td>Yes</td>\n",
       "    </tr>\n",
       "    <tr>\n",
       "      <th>3</th>\n",
       "      <td>Sunny</td>\n",
       "      <td>Mild</td>\n",
       "      <td>High</td>\n",
       "      <td>False</td>\n",
       "      <td>Yes</td>\n",
       "    </tr>\n",
       "    <tr>\n",
       "      <th>4</th>\n",
       "      <td>Sunny</td>\n",
       "      <td>Cool</td>\n",
       "      <td>Normal</td>\n",
       "      <td>False</td>\n",
       "      <td>Yes</td>\n",
       "    </tr>\n",
       "  </tbody>\n",
       "</table>\n",
       "</div>"
      ],
      "text/plain": [
       "    Outlook  Temp Humidity  Windy Play Golf\n",
       "0     Rainy   Hot     High  False        No\n",
       "1     Rainy   Hot     High   True        No\n",
       "2  Overcast   Hot     High  False       Yes\n",
       "3     Sunny  Mild     High  False       Yes\n",
       "4     Sunny  Cool   Normal  False       Yes"
      ]
     },
     "metadata": {},
     "execution_count": 38
    }
   ],
   "metadata": {}
  },
  {
   "cell_type": "markdown",
   "source": [
    "- Subtask 1: Create a gini index function.\n",
    " - The function receives a list and calculate a gini index. The Gini Index is calculated by subtracting the sum of the squared probabilities of each class from one. \n",
    " - You should double check the lecture slides and the examples below to make sure you made a correct function.\n",
    " - You can use collections.Counter() to count labels of the dataset."
   ],
   "metadata": {}
  },
  {
   "cell_type": "code",
   "execution_count": 55,
   "source": [
    "from collections import Counter\r\n",
    "\r\n",
    "def gini(dataset):\r\n",
    "    \"\"\"\r\n",
    "    A function that calculates gini index of a given list.\r\n",
    "    \r\n",
    "    Input\r\n",
    "     - dataset: a list of labels.\r\n",
    "    Output\r\n",
    "     - impurity: gini index of the list.\r\n",
    "    \r\n",
    "    You do not need to keep the output name of this function, the grade only depends on the correct outputs.\r\n",
    " \r\n",
    "    print(f'\\nGini Impurity of the class is {gini_class:.3f}')\r\n",
    "    \"\"\"\r\n",
    "    Count =Counter(dataset)\r\n",
    "    \r\n",
    "    p_sum = 0\r\n",
    "    n=len(dataset)\r\n",
    "    for values in Count.values():\r\n",
    "                p_sum = p_sum  +  ((values/ n ) * (values / n ))\r\n",
    "               \r\n",
    "    impurity = 1 - p_sum# CHANGE IT\r\n",
    "    return impurity"
   ],
   "outputs": [],
   "metadata": {}
  },
  {
   "cell_type": "markdown",
   "source": [
    "Your gini index is expected to have the following results:\n",
    "- `0.5` for `[0,0,1,1]`\n",
    "- `0.4082` for `[0,0,0,0,0,1,1]`"
   ],
   "metadata": {}
  },
  {
   "cell_type": "code",
   "execution_count": 57,
   "source": [
    "gini([0,0,1,1])"
   ],
   "outputs": [
    {
     "output_type": "execute_result",
     "data": {
      "text/plain": [
       "0.5"
      ]
     },
     "metadata": {},
     "execution_count": 57
    }
   ],
   "metadata": {}
  },
  {
   "cell_type": "markdown",
   "source": [
    "Report a gini score of the `Temp` attribute of **playgolf** to `gini_score` (0.2 pt)."
   ],
   "metadata": {}
  },
  {
   "cell_type": "code",
   "execution_count": 61,
   "source": [
    "gini_score = gini(playgolf['Temp']) # CHANGE IT"
   ],
   "outputs": [],
   "metadata": {}
  },
  {
   "cell_type": "markdown",
   "source": [
    "Print your score here!"
   ],
   "metadata": {}
  },
  {
   "cell_type": "code",
   "execution_count": 62,
   "source": [
    "gini_score"
   ],
   "outputs": [
    {
     "output_type": "execute_result",
     "data": {
      "text/plain": [
       "0.653061224489796"
      ]
     },
     "metadata": {},
     "execution_count": 62
    }
   ],
   "metadata": {}
  },
  {
   "cell_type": "markdown",
   "source": [
    "- Subtask 2: Create an entropy function (0.2 pt).\n",
    " - You should double check the lecture slides and the examples below to make sure you made a correct function.\n",
    " - You can use collections.Counter() to count labels of the dataset."
   ],
   "metadata": {}
  },
  {
   "cell_type": "code",
   "execution_count": 73,
   "source": [
    "import math\r\n",
    "def entropy(dataset):\r\n",
    "    \"\"\"\r\n",
    "    A function that calculates gini index of a given list.\r\n",
    "    \r\n",
    "    Input\r\n",
    "     - dataset: a list of labels.\r\n",
    "    Output\r\n",
    "     - impurity: entropy value of the list.\r\n",
    "    \r\n",
    "    You do not need to keep the output name of this function, the grade only depends on the correct outputs.\r\n",
    "    \r\n",
    "    \"\"\"\r\n",
    "    Count =Counter(dataset)\r\n",
    "    \r\n",
    "    p_sum = 0\r\n",
    "    n=len(dataset)\r\n",
    "    for values in Count.values():\r\n",
    "        val=(values/n)\r\n",
    "        p_sum += val*(math.log2(val))\r\n",
    "        \r\n",
    "    impurity = -p_sum#None # CHANGE IT\r\n",
    "    return impurity"
   ],
   "outputs": [],
   "metadata": {}
  },
  {
   "cell_type": "markdown",
   "source": [
    "Your entropy is expected to have the following results:\n",
    "- `1.0` for `[0,0,1,1]`\n",
    "- `0.8631` for `[0,0,0,0,0,1,1]`"
   ],
   "metadata": {}
  },
  {
   "cell_type": "code",
   "execution_count": 74,
   "source": [
    "entropy([0,0,1,1])"
   ],
   "outputs": [
    {
     "output_type": "execute_result",
     "data": {
      "text/plain": [
       "1.0"
      ]
     },
     "metadata": {},
     "execution_count": 74
    }
   ],
   "metadata": {}
  },
  {
   "cell_type": "code",
   "execution_count": 75,
   "source": [
    "entropy([0,0,0,0,0,1,1])"
   ],
   "outputs": [
    {
     "output_type": "execute_result",
     "data": {
      "text/plain": [
       "0.863120568566631"
      ]
     },
     "metadata": {},
     "execution_count": 75
    }
   ],
   "metadata": {}
  },
  {
   "cell_type": "markdown",
   "source": [
    "Report a gini score of the `Windy` attribute of **playgolf** to `entropy_score` (0.2 pt)."
   ],
   "metadata": {}
  },
  {
   "cell_type": "code",
   "execution_count": 76,
   "source": [
    "entropy_score = entropy(playgolf['Windy']) # CHANGE IT"
   ],
   "outputs": [],
   "metadata": {}
  },
  {
   "cell_type": "markdown",
   "source": [
    "Print your score here!"
   ],
   "metadata": {}
  },
  {
   "cell_type": "code",
   "execution_count": 77,
   "source": [
    "entropy_score"
   ],
   "outputs": [
    {
     "output_type": "execute_result",
     "data": {
      "text/plain": [
       "0.9852281360342516"
      ]
     },
     "metadata": {},
     "execution_count": 77
    }
   ],
   "metadata": {}
  },
  {
   "cell_type": "markdown",
   "source": [
    "- Subtask 3: Create an information gain function. \n",
    "\n",
    "  - **DO NOT use entropy but only use the gini index for scores.**\n",
    "  - Check the lecture slides and the examples below to make sure you made a correct function."
   ],
   "metadata": {}
  },
  {
   "cell_type": "code",
   "execution_count": 100,
   "source": [
    "def information_gain(labels_start, labels_split):\r\n",
    "    \"\"\"\r\n",
    "    Calculate information gain when we have an information of label distribution before and after split operation.\r\n",
    "    This information gain function receives two values:\r\n",
    "    \r\n",
    "    Input:\r\n",
    "      - labels_start: A single list of all current labels\r\n",
    "        e.g.) [0,0,0,0,1,1,1,1]\r\n",
    "      - labels_split: A list of lists representing split \r\n",
    "        e.g.) [ [0,0,1,1], [1,1,0,0] ]\r\n",
    "    \r\n",
    "    Then we can calculate information gain by calculating the gini index before splitting,\r\n",
    "    and substract (gini index * proportion of the subset) for each list after splitting from there.\r\n",
    "    \r\n",
    "    Output:\r\n",
    "      - info_gain: Information gain\r\n",
    "    \r\n",
    "    You do not need to keep the output name of this function, the grade only depends on the correct outputs.\r\n",
    "    \r\n",
    "    \"\"\"\r\n",
    "    gini_1 =gini(labels_start)\r\n",
    "    gini_2=0\r\n",
    "    k=1\r\n",
    "    for subs in labels_split:\r\n",
    "      k =len(subs)/len(labels_start)\r\n",
    "      gini_2 +=k*gini(subs)\r\n",
    "    info_gain =gini_1-gini_2#None # CHANGE IT\r\n",
    "    return info_gain"
   ],
   "outputs": [],
   "metadata": {}
  },
  {
   "cell_type": "code",
   "execution_count": 101,
   "source": [
    "information_gain([0,0,0,0,1,1,1,1], [[0,0,1,0],[1,1,0,1]])"
   ],
   "outputs": [
    {
     "output_type": "execute_result",
     "data": {
      "text/plain": [
       "0.125"
      ]
     },
     "metadata": {},
     "execution_count": 101
    }
   ],
   "metadata": {}
  },
  {
   "cell_type": "markdown",
   "source": [
    "Your information gain is expected to have the following results:\n",
    "- `0.0` for `[0,0,0,0,1,1,1,1], [[0,0,1,1],[0,0,1,1]]`\n",
    "- `0.5` for `[0,0,0,0,1,1,1,1], [[0,0,0,0],[1,1,1,1]]`\n",
    "- `0.125` for `[0,0,0,0,1,1,1,1], [[0,0,1,0],[1,0,1,1]]`"
   ],
   "metadata": {}
  },
  {
   "cell_type": "markdown",
   "source": [
    "Here we have labels before and after splitting information. Use those two values to calculate information gain and report it to `info_gain_score` using your own `information_gain` function (0.2 pt)."
   ],
   "metadata": {}
  },
  {
   "cell_type": "code",
   "execution_count": 102,
   "source": [
    "labels_start = [1,2,1,2,2,1,2,1,3,3,3]\r\n",
    "labels_split = [[3,3,3],[1,2,1,1],[2,2,1,2]]"
   ],
   "outputs": [],
   "metadata": {}
  },
  {
   "cell_type": "code",
   "execution_count": 103,
   "source": [
    "info_gain_score = information_gain(labels_start, labels_split)"
   ],
   "outputs": [],
   "metadata": {}
  },
  {
   "cell_type": "markdown",
   "source": [
    "Print your score here!"
   ],
   "metadata": {}
  },
  {
   "cell_type": "code",
   "execution_count": 104,
   "source": [
    "info_gain_score"
   ],
   "outputs": [
    {
     "output_type": "execute_result",
     "data": {
      "text/plain": [
       "0.38842975206611574"
      ]
     },
     "metadata": {},
     "execution_count": 104
    }
   ],
   "metadata": {}
  },
  {
   "cell_type": "markdown",
   "source": [
    "Now it is time for random forests. We will give you a basic `split` function for the algorithms you will develop. This split function receives the attributes (`X`), the label (`y`) and one `feature` (attribute) of it, and split the whole dataset based on the categories of the selected feature and return split data subsets and label subsets. Using those split values, you are going to make few functions needed for a random forest. \n",
    "\n",
    "- Note that this assignment does not make a whole working random forest but the core functions to understand the algorithm."
   ],
   "metadata": {}
  },
  {
   "cell_type": "code",
   "execution_count": 105,
   "source": [
    "def split(X, y, attr):\r\n",
    "    split_attrs = []\r\n",
    "    split_labels = []\r\n",
    "    \r\n",
    "    for val in X[attr].unique():\r\n",
    "        attr_subset = []\r\n",
    "        label_subset = []\r\n",
    "        \r\n",
    "        for idx, row in X.iterrows():\r\n",
    "            \r\n",
    "            if row[attr] == val:\r\n",
    "                attr_subset.append(row)\r\n",
    "                label_subset.append(y[idx])\r\n",
    "                \r\n",
    "        split_attrs.append(pd.DataFrame(attr_subset))\r\n",
    "        split_labels.append(label_subset)\r\n",
    "        \r\n",
    "    return split_attrs, split_labels"
   ],
   "outputs": [],
   "metadata": {}
  },
  {
   "cell_type": "markdown",
   "source": [
    "Check out the result by running the function below and also check the Windy column to understand what the function does."
   ],
   "metadata": {}
  },
  {
   "cell_type": "code",
   "execution_count": 106,
   "source": [
    "split(playgolf.drop('Play Golf', axis=1), playgolf['Play Golf'], 'Windy')"
   ],
   "outputs": [
    {
     "output_type": "execute_result",
     "data": {
      "text/plain": [
       "([     Outlook  Temp Humidity  Windy\n",
       "  0      Rainy   Hot     High  False\n",
       "  2   Overcast   Hot     High  False\n",
       "  3      Sunny  Mild     High  False\n",
       "  4      Sunny  Cool   Normal  False\n",
       "  7      Rainy  Mild     High  False\n",
       "  8      Rainy  Cool   Normal  False\n",
       "  9      Sunny  Mild   Normal  False\n",
       "  12  Overcast   Hot   Normal  False,\n",
       "       Outlook  Temp Humidity  Windy\n",
       "  1      Rainy   Hot     High   True\n",
       "  5      Sunny  Cool   Normal   True\n",
       "  6   Overcast  Cool   Normal   True\n",
       "  10     Rainy  Mild   Normal   True\n",
       "  11  Overcast  Mild     High   True\n",
       "  13     Sunny  Mild     High   True],\n",
       " [['No', 'Yes', 'Yes', 'Yes', 'No', 'Yes', 'Yes', 'Yes'],\n",
       "  ['No', 'No', 'Yes', 'Yes', 'Yes', 'No']])"
      ]
     },
     "metadata": {},
     "execution_count": 106
    }
   ],
   "metadata": {}
  },
  {
   "cell_type": "code",
   "execution_count": 107,
   "source": [
    "playgolf['Windy']"
   ],
   "outputs": [
    {
     "output_type": "execute_result",
     "data": {
      "text/plain": [
       "0     False\n",
       "1      True\n",
       "2     False\n",
       "3     False\n",
       "4     False\n",
       "5      True\n",
       "6      True\n",
       "7     False\n",
       "8     False\n",
       "9     False\n",
       "10     True\n",
       "11     True\n",
       "12    False\n",
       "13     True\n",
       "Name: Windy, dtype: bool"
      ]
     },
     "metadata": {},
     "execution_count": 107
    }
   ],
   "metadata": {}
  },
  {
   "cell_type": "markdown",
   "source": [
    "Subtask 4: Now we can make a function for choosing the best feature to split, given the dataset of the node (It will be a full dataset if we run this function on the root node.). The function `best_split` receives the datasets (`X`, `y`) and the number of attributes to choose from the dataset, and returns the best feature among the chosen one and it's information gain. This process is one of the core processes of the random forest. "
   ],
   "metadata": {}
  },
  {
   "cell_type": "code",
   "execution_count": 60,
   "source": [
    "# 0.4 pt\r\n",
    "def best_split(X, y, num_attr):\r\n",
    "    \"\"\"\r\n",
    "    Input\r\n",
    "        - X: Attributes of the node.\r\n",
    "        - y: dataset labels.\r\n",
    "        - num_attr: the number of attributes that the algorithm chooses.\r\n",
    "    Output\r\n",
    "        - best_feature: The best feature in terms of information gain.\r\n",
    "        - best_gain: The information gain value when the dataset is split by the best feature.\r\n",
    "        \r\n",
    "    Step 1: Choose 'num_attr' column names from X.columns without allowing replacement. Use np.random.choice. \r\n",
    "            Assign the result to 'attributes'\r\n",
    "    Step 2: Set best_info_gain to zero and best_attr to None.\r\n",
    "    Step 3: You should iterate the attributes chosen in Step 1.\r\n",
    "            For each chosen attribute from Step 1, 'split' the dataset using the split function we have offered.\r\n",
    "            Save the split attributes and labels.\r\n",
    "    Step 4: Examine the information gain of the current trial. Use information_gain function you created.\r\n",
    "    Step 5: Compare it to the current best gain, if the new gain is higher, reset best_gain and best_feature.\r\n",
    "    Step 6: Return best_attr, best_info_gain.\r\n",
    "    \r\n",
    "    \r\n",
    "    \"\"\"\r\n",
    "    # Step 1\r\n",
    "    attributes = None # CHANGE IT\r\n",
    "    \r\n",
    "    # Step 2\r\n",
    "    best_info_gain = None # CHANGE IT\r\n",
    "    best_attr = None\r\n",
    "    \r\n",
    "    # Step 3 - You should create a for loop and Step 4 and 5 will run inside the loop\r\n",
    "        # Step 4\r\n",
    "        # Step 5\r\n",
    "\r\n",
    "    # Step 6\r\n",
    "    return best_attr, best_info_gain"
   ],
   "outputs": [],
   "metadata": {}
  },
  {
   "cell_type": "markdown",
   "source": [
    "Try to find the best split of the playgolf dataset with `num_features` = 2. Report the best feature and best gain to `best_attr_playgolf` and `best_gain_playgolf` (0.4 pt)."
   ],
   "metadata": {}
  },
  {
   "cell_type": "code",
   "execution_count": 61,
   "source": [
    "np.random.seed(RANDOM_STATE)\r\n",
    "best_attr_playgolf, best_gain_playgolf = None, None # CHANGE IT"
   ],
   "outputs": [],
   "metadata": {}
  },
  {
   "cell_type": "code",
   "execution_count": 62,
   "source": [
    "# TEST YOUR RESULT HERE\r\n",
    "best_attr_playgolf, best_gain_playgolf"
   ],
   "outputs": [
    {
     "output_type": "execute_result",
     "data": {
      "text/plain": [
       "(None, None)"
      ]
     },
     "metadata": {},
     "execution_count": 62
    }
   ],
   "metadata": {}
  },
  {
   "cell_type": "markdown",
   "source": [
    "Subtask 5: Now we have functions 1) to split the function based on one chosen feature (`split`) and 2) to choose the best feature to split (`find_best_split`). The next step will be to create one tree with all the information we have. Finish the function `build`. This function makes one tree of the random forest by using two previous functions. Since this function is a recursive one, it will return a complete tree, not a node."
   ],
   "metadata": {}
  },
  {
   "cell_type": "code",
   "execution_count": 63,
   "source": [
    "# 0.5 pt\r\n",
    "\r\n",
    "def build(X, y, num_attr, tol=0.00001):\r\n",
    "    \"\"\"\r\n",
    "    Input\r\n",
    "        - X: Attributes of the data\r\n",
    "        - y: dataset labels\r\n",
    "        - num_attr: the number of attributes that the algorithm chooses for each node.\r\n",
    "        - tol: information gain tolerance value.\r\n",
    "    Output\r\n",
    "        - node: a leaf or middle node.\r\n",
    "        \r\n",
    "    Step 1: Run the best split function to get the best attributes and the best information gain for the node.\r\n",
    "    Step 2: Examine the best information gain value. If it is lower than the tolerance value (tol), \r\n",
    "            return the node with the best information gain value. The node should be a dictionary form \r\n",
    "            {\"type\": \"leaf\", \"gain\": the best information gain}.\r\n",
    "    Step 3: If the best information gain is higher, split the dataset with the chosen best attribute.\r\n",
    "    Step 4: Create an empty list called \"branches\" to save all the branches of the current node.\r\n",
    "    Step 5: For each split attributes and labels, run this 'build' function recursively and store the result\r\n",
    "            to the  \"branches\" list.\r\n",
    "    Step 6: After all the recursion process is done, return the root node with its best attribute, branch information,\r\n",
    "            and the best information gain.\r\n",
    "    \"\"\"\r\n",
    "    \r\n",
    "    # Step 1\r\n",
    "    best_attr, best_info_gain = None, None # Change it\r\n",
    "\r\n",
    "    # Step 2 - Change the if condition and the return value\r\n",
    "    if None:\r\n",
    "        return {} # CHANGE IT\r\n",
    "    \r\n",
    "    # Step 3\r\n",
    "    split_attrs, split_labels = None, None # CHANGE IT\r\n",
    "    \r\n",
    "    # Step 4\r\n",
    "    branches = []\r\n",
    "    \r\n",
    "    # Step 5 - You should create a for loop following the manual\r\n",
    "    \r\n",
    "    # Step 6 - Change None values to the correct values\r\n",
    "    return {\r\n",
    "        \"type\": \"node\",\r\n",
    "        \"best_feature\": None,\r\n",
    "        \"branches\": None,\r\n",
    "        \"value\": None\r\n",
    "    }"
   ],
   "outputs": [],
   "metadata": {}
  },
  {
   "cell_type": "markdown",
   "source": [
    "Bulid one tree forest using the whole playgolf dataset and report the tree to the variable 'single_tree'. Set the number of attributes to three. You do not need to specify the tolerance value (0.5 pt)."
   ],
   "metadata": {}
  },
  {
   "cell_type": "code",
   "execution_count": 64,
   "source": [
    "np.random.seed(RANDOM_STATE)\r\n",
    "single_tree = None # CHANGE IT"
   ],
   "outputs": [],
   "metadata": {}
  },
  {
   "cell_type": "code",
   "execution_count": 65,
   "source": [
    "single_tree"
   ],
   "outputs": [],
   "metadata": {}
  },
  {
   "cell_type": "markdown",
   "source": [
    "Subtask 6: Finally, it is time to generate a random forest with multiple trees. Complete `random_forest` function which chooses samples of the original dataset and create multiple trees forming a 'forest'."
   ],
   "metadata": {}
  },
  {
   "cell_type": "code",
   "execution_count": 66,
   "source": [
    "# 0.4 pt\r\n",
    "import random \r\n",
    "\r\n",
    "def random_forest(X, y, num_tree, num_attr, tol = 0.00001):\r\n",
    "    \"\"\"\r\n",
    "    Input\r\n",
    "        - X: Attributes of the data\r\n",
    "        - y: dataset labels\r\n",
    "        - num_tree: the number of attributes that the algorithm chooses for each node.\r\n",
    "        - num_attr: the number of attributes that the algorithm chooses for each node.\r\n",
    "        - tol: information gain tolerance value.\r\n",
    "    Output\r\n",
    "        - trees: collection of trees\r\n",
    "    \r\n",
    "    Step 1: Create a list called 'trees' to save all trees generated during the process\r\n",
    "    Step 2: Create a for loop iterating num_tree times.  Repeat Step 3 - 5 for 'num_tree' times in a for loop. \r\n",
    "            After the for loop finishes, trees list should have num_tree different trees inside.\r\n",
    "    Step 3: For each loop, choose indices (not values) from the dataset X of the same size, but with allowing replacement.\r\n",
    "            For example, you can pick [1,2,2,3,3] from the data [1,2,3,4,5]. \r\n",
    "            The size after random sampling should be the same as the vertical size of the dataset X.\r\n",
    "    Step 4: Use the same indices as X to pick the labels from y with replacement. \r\n",
    "            If you use DataFrame, you may need to reset the indices (reset_index).\r\n",
    "    Step 5: Build a tree using the subsets of X and y and save it to the list.\r\n",
    "    Step 6: Return 'trees'.\r\n",
    "    \r\n",
    "    \"\"\"\r\n",
    "    \r\n",
    "    trees = None\r\n",
    "    return trees"
   ],
   "outputs": [],
   "metadata": {}
  },
  {
   "cell_type": "markdown",
   "source": [
    "Create one random forest on playgolf dataset. Set the number of tree to three, and the number of attributes to three as well. You do not need to change tolerance value from the default one (0.4 pt)."
   ],
   "metadata": {}
  },
  {
   "cell_type": "code",
   "execution_count": 67,
   "source": [
    "np.random.seed(RANDOM_STATE)\r\n",
    "forest = None # CHANGE IT"
   ],
   "outputs": [],
   "metadata": {}
  },
  {
   "cell_type": "code",
   "execution_count": 68,
   "source": [
    "forest"
   ],
   "outputs": [],
   "metadata": {}
  },
  {
   "cell_type": "markdown",
   "source": [
    "# 2. Evaluation "
   ],
   "metadata": {}
  },
  {
   "cell_type": "markdown",
   "source": [
    "#### Task 9: Accuracy, Precision, Recall, F1-score (0.3 pt)"
   ],
   "metadata": {}
  },
  {
   "cell_type": "markdown",
   "source": [
    "We start to use our original dataset again! You will evaluate the random forest and the support vector machine classifier with various performance measures you have learned besides accuracy, such as precision, recall, and F1-score, also using scikit-learn. Here we continue to use the same dataset."
   ],
   "metadata": {}
  },
  {
   "cell_type": "markdown",
   "source": [
    "Your task is as follows:\n",
    "\n",
    "1. Use standardized datasets (`X_train_st`, `y_train`...) throughout the task. To use the various score functions here, you need to convert the labels of `y_train` and `y_test` (`<=50K`, `>50K`) to numerical ones (0 or 1) since the score functions will not recognize the categorical labels. Create `y_train_numerical` and `y_test_numerical` with the converted labels (`<=50K` to 0, and `>50K` to 1). Refer to the previous labs. (0.1 pt)\n",
    "2. Create an instance of an SVC classifier with the **polynomial** kernel.\n",
    "3. Fit the model using the training set.\n",
    "4. Report precision score, recall score, and F1-score using the test set, and save it into the variable `recall_score_svc`, `precision_score_svc`, and `f1_score_svc`. You can find out the information about the performance measures [here](https://scikit-learn.org/stable/modules/model_evaluation.html#precision-recall-f-measure-metrics). We require you to calculate the scores using the following functions in scikit-learn: `precision_score`, `recall_score`, and `f1_score`. There is no partial point if you are correct on only some of them (0.2 pt)."
   ],
   "metadata": {}
  },
  {
   "cell_type": "code",
   "execution_count": 69,
   "source": [
    "# Subtask 1: 0.1 pt\r\n",
    "y_train_numerical = pd.Series(y_train.replace(['<=50K', '>50K'],[0, 1],regex=True)) # CHANGE IT\r\n",
    "y_test_numerical = pd.Series(y_test.replace(['<=50K', '>50K'], [0, 1],regex=True)) # CHANGE IT"
   ],
   "outputs": [],
   "metadata": {}
  },
  {
   "cell_type": "markdown",
   "source": [
    "Check if you successfully replaced the values here."
   ],
   "metadata": {}
  },
  {
   "cell_type": "code",
   "execution_count": 70,
   "source": [
    "y_train_numerical.unique(), y_test_numerical.unique()"
   ],
   "outputs": [
    {
     "output_type": "execute_result",
     "data": {
      "text/plain": [
       "(array([0, 1], dtype=int64), array([1, 0], dtype=int64))"
      ]
     },
     "metadata": {},
     "execution_count": 70
    }
   ],
   "metadata": {}
  },
  {
   "cell_type": "code",
   "execution_count": 71,
   "source": [
    "# Subtask 2: 0.2 pt\r\n",
    "from sklearn.metrics import recall_score\r\n",
    "from sklearn.metrics import precision_score\r\n",
    "from sklearn.metrics import f1_score\r\n",
    "svc=SVC(kernel='poly')\r\n",
    "svc.fit(X_train_st,y_train_numerical)\r\n",
    "y_pred=svc.predict(X_test_st)\r\n",
    "\r\n",
    "recall_score_svc = recall_score(y_test_numerical,y_pred)#None # CHANGE IT\r\n",
    "precision_score_svc = precision_score(y_test_numerical,y_pred)#None # CHANGE IT\r\n",
    "f1_score_svc = f1_score(y_test_numerical,y_pred)#None # CHANGE IT"
   ],
   "outputs": [],
   "metadata": {}
  },
  {
   "cell_type": "markdown",
   "source": [
    "Print three scores here."
   ],
   "metadata": {}
  },
  {
   "cell_type": "code",
   "execution_count": 72,
   "source": [
    "precision_score_svc, recall_score_svc, f1_score_svc"
   ],
   "outputs": [
    {
     "output_type": "execute_result",
     "data": {
      "text/plain": [
       "(0.7679324894514767, 0.5657193605683837, 0.6514957811301457)"
      ]
     },
     "metadata": {},
     "execution_count": 72
    }
   ],
   "metadata": {}
  },
  {
   "cell_type": "markdown",
   "source": [
    "#### Task 10: AUC / AUPRC (0.3 pt)"
   ],
   "metadata": {}
  },
  {
   "cell_type": "markdown",
   "source": [
    "You will evaluate the random forest and the support vector machine classifier with various performance measures related to the ROC curve, such as the area under the ROC curve (AUC) and rea under the precision-recall curve (AUPRC)."
   ],
   "metadata": {}
  },
  {
   "cell_type": "markdown",
   "source": [
    "Your task is as follows:\n",
    "\n",
    "1. Use the same dataset as the ones for Task 7 (`X_train_st` and `y_train_numerical`). AUPRC and AOC score also only recognize numerical labels.\n",
    "2. Create an instance of a random forest classifier without setting any constraint. Don't forget to set the random state to our value `RANDOM_STATE`.\n",
    "3. Fit the model on the training set.\n",
    "4. Print the accuracy on the test set to `accuracy_rf` (0.1 pt).\n",
    "4. Report AUC and AUPRC using the test set, and save it into the variable called *auc_rf, auprc_rf*. You can find out the information about the performance measures [here](https://scikit-learn.org/stable/modules/generated/sklearn.metrics.roc_auc_score.html#sklearn.metrics.roc_auc_score) for AUC score, and [here](https://scikit-learn.org/stable/modules/generated/sklearn.metrics.average_precision_score.html) for AUPRC score. AUPRC has many names, and it is supported as *average precision score* in scikit-learn. We require you to calculate the scores using the following functions: *roc_auc_score, average_precision_score*. There is no partial point if you are correct on only some of them (0.2 pt)."
   ],
   "metadata": {}
  },
  {
   "cell_type": "code",
   "execution_count": 73,
   "source": [
    "from sklearn.metrics import roc_auc_score\r\n",
    "from sklearn.metrics import accuracy_score\r\n",
    "from sklearn.metrics import average_precision_score\r\n",
    "rf_auc=RandomForestClassifier(random_state=RANDOM_STATE)\r\n",
    "rf_auc.fit(X_train_st,y_train_numerical)\r\n",
    "y_predict=rf_auc.predict(X_test_st)\r\n",
    "accuracy_rf = accuracy_score(y_test_numerical,y_pred)#None # CHANGE IT\r\n",
    "auc_rf = roc_auc_score(y_test_numerical,y_pred)#None # CHANGE IT\r\n",
    "auprc_rf =average_precision_score(y_test_numerical,y_pred)#None # CHANGE IT"
   ],
   "outputs": [],
   "metadata": {}
  },
  {
   "cell_type": "markdown",
   "source": [
    "Print your scores here"
   ],
   "metadata": {}
  },
  {
   "cell_type": "code",
   "execution_count": 78,
   "source": [
    "(accuracy_rf, auc_rf, auprc_rf)"
   ],
   "outputs": [
    {
     "output_type": "execute_result",
     "data": {
      "text/plain": [
       "(0.8493756216156482, 0.7545383620555616, 0.5425125175817554)"
      ]
     },
     "metadata": {},
     "execution_count": 78
    }
   ],
   "metadata": {}
  },
  {
   "cell_type": "markdown",
   "source": [
    "#### Task 11: Apply them together with scikit-learn (0.4 pt)"
   ],
   "metadata": {}
  },
  {
   "cell_type": "markdown",
   "source": [
    "Here you will try to apply the grid search using the performance measures you have tried on Task 5 and Task 6, and pick the best performing model in terms of specific performance measures.\n",
    "\n",
    "Our dataset is imbalanced, meaning that the healthy patient is dominant. Therefore, we can expect that the best model can be different, and we may also need to use AUPRC to get the most suitable model. \n",
    "\n",
    "Your task is as follows:\n",
    "\n",
    "1. Use the same dataset as the ones for Task 7 (`X_train_st` and `y_train_numerical`). AUPRC and AOC score also only recognize numerical labels.\n",
    "2. Create an instance of a kNN classifier without setting any constraint. \n",
    "3. Run grid search with a dictionary stating n_neighbors from 1 to 10, and use two different scoring measures: AUPRC (average_precision) and F1-score (f1). \n",
    "4. Put the best classifiers into the respective variable called *auprc_best_classifier* and *f1_best_classifier*. Set cv=5 for grid search cross-validation. "
   ],
   "metadata": {}
  },
  {
   "cell_type": "markdown",
   "source": [
    "If you complete the method, you can run the following line to check whether your functions are correct or not. Note that we will evaluate your functions with different data, so be careful to implement them."
   ],
   "metadata": {}
  },
  {
   "cell_type": "code",
   "execution_count": 80,
   "source": [
    "from sklearn.neighbors import KNeighborsClassifier\r\n",
    "knn = KNeighborsClassifier() \r\n",
    "param_grid={'n_neighbors':[1,2,3,3,4,5,6,7,8,9,10]}\r\n",
    "grid=GridSearchCV(knn,param_grid,cv=5,scoring='average_precision')   \r\n",
    "grid.fit(X_train_st.values,y_train_numerical.values)                      \r\n",
    "auprc_best_classifier = grid.best_estimator_#None # CHANGE IT\r\n",
    "gs=GridSearchCV(knn,param_grid,cv=5,scoring='f1')  \r\n",
    "gs.fit(X_train_st.values,y_train_numerical.values)                         \r\n",
    "f1_best_classifier = gs.best_estimator_#None # CHANGE IT"
   ],
   "outputs": [],
   "metadata": {}
  },
  {
   "cell_type": "markdown",
   "source": [
    "Check your scores here!"
   ],
   "metadata": {}
  },
  {
   "cell_type": "code",
   "execution_count": 84,
   "source": [
    "(auprc_best_classifier, f1_best_classifier)\r\n"
   ],
   "outputs": [
    {
     "output_type": "execute_result",
     "data": {
      "text/plain": [
       "(KNeighborsClassifier(n_neighbors=10), KNeighborsClassifier(n_neighbors=9))"
      ]
     },
     "metadata": {},
     "execution_count": 84
    }
   ],
   "metadata": {}
  },
  {
   "cell_type": "markdown",
   "source": [
    "#### Task 12: Task 5 implementation (0.8 pt)"
   ],
   "metadata": {}
  },
  {
   "cell_type": "markdown",
   "source": [
    "This task requires you to implement the following performance measures:\n",
    " - Accuracy (0.2 pt)\n",
    " - Precision (0.2 pt)\n",
    " - Recall (0.2 pt)\n",
    " - F1-score (0.2 pt)\n",
    " \n",
    "All inputs will be the NumPy arrays, so you can use any NumPy array methods to calculate the scores."
   ],
   "metadata": {}
  },
  {
   "cell_type": "code",
   "execution_count": 127,
   "source": [
    "def accuracy_manual(truth, predicted):\r\n",
    "    TP = 0\r\n",
    "    for i in range(0,len(truth)):\r\n",
    "        if truth[i] == predicted[i] and truth[i] == 1:\r\n",
    "                    TP+=1\r\n",
    "    print(\"True Positive: \", TP)\r\n",
    "    FP = 0\r\n",
    "    for i in range(0,len(truth)):\r\n",
    "        if truth[i] == 0 and predicted[i] == 1:\r\n",
    "                    FP+=1\r\n",
    "    print(\"False Positive: \", FP)\r\n",
    "    TN = 0\r\n",
    "    for i in range(0,len(truth)):\r\n",
    "        if truth[i] == predicted[i] and truth[i] == 0:\r\n",
    "                    TN+=1\r\n",
    "    print(\"True Negative: \", TN)\r\n",
    "    FN = 0\r\n",
    "    for i in range(0,len(truth)):\r\n",
    "        if truth[i] == 1 and predicted[i] == 0:\r\n",
    "                    FN+=1\r\n",
    "    print(\"False Negative: \", FN)\r\n",
    "    CP = 0\r\n",
    "    for i in range(0,len(truth)):\r\n",
    "        if truth[i] == predicted[i]:\r\n",
    "                    CP+=1\r\n",
    "    print(\"Correct Prediction: \", CP) \r\n",
    "    print(CP == TP + TN)\r\n",
    "    ICP = 0\r\n",
    "    for i in range(0,len(truth)):\r\n",
    "        if truth[i] != predicted[i]:\r\n",
    "                    ICP+=1\r\n",
    "    print(\"Incorrect Prediction: \", ICP)\r\n",
    "    print(ICP == FP + FN)\r\n",
    "    accuracy = (TP + TN)/(TP + FP + TN + FN)\r\n",
    "    \r\n",
    "    return accuracy #None # CHANGE IT"
   ],
   "outputs": [],
   "metadata": {}
  },
  {
   "cell_type": "code",
   "execution_count": 129,
   "source": [
    "def precision_manual(truth, predicted):\r\n",
    "        TP = 0\r\n",
    "        for i in range(0,len(truth)):\r\n",
    "            if truth[i] == predicted[i] and truth[i] == 1:\r\n",
    "                        TP+=1\r\n",
    "        print(\"True Positive: \", TP)\r\n",
    "        FP = 0\r\n",
    "        for i in range(0,len(truth)):\r\n",
    "            if truth[i] == 0 and predicted[i] == 1:\r\n",
    "                        FP+=1\r\n",
    "        print(\"False Positive: \", FP)\r\n",
    "        TN = 0\r\n",
    "        for i in range(0,len(truth)):\r\n",
    "            if truth[i] == predicted[i] and truth[i] == 0:\r\n",
    "                        TN+=1\r\n",
    "        print(\"True Negative: \", TN)\r\n",
    "        FN = 0\r\n",
    "        for i in range(0,len(truth)):\r\n",
    "            if truth[i] == 1 and predicted[i] == 0:\r\n",
    "                        FN+=1\r\n",
    "        print(\"False Negative: \", FN)\r\n",
    "        CP = 0\r\n",
    "        for i in range(0,len(truth)):\r\n",
    "            if truth[i] == predicted[i]:\r\n",
    "                        CP+=1\r\n",
    "        print(\"Correct Prediction: \", CP) \r\n",
    "        print(CP == TP + TN)\r\n",
    "        ICP = 0\r\n",
    "        for i in range(0,len(truth)):\r\n",
    "            if truth[i] != predicted[i]:\r\n",
    "                        ICP+=1\r\n",
    "        print(\"Incorrect Prediction: \", ICP)\r\n",
    "        precision = TP/(TP+FP)\r\n",
    "    \r\n",
    "        return precision#None # CHANGE IT"
   ],
   "outputs": [],
   "metadata": {}
  },
  {
   "cell_type": "code",
   "execution_count": 131,
   "source": [
    "def recall_manual(truth, predicted):\r\n",
    "\r\n",
    "    TP = 0\r\n",
    "    for i in range(0,len(truth)):\r\n",
    "        if truth[i] == predicted[i] and truth[i] == 1:\r\n",
    "                    TP+=1\r\n",
    "    print(\"True Positive: \", TP)\r\n",
    "    FP = 0\r\n",
    "    for i in range(0,len(truth)):\r\n",
    "        if truth[i] == 0 and predicted[i] == 1:\r\n",
    "                    FP+=1\r\n",
    "    print(\"False Positive: \", FP)\r\n",
    "    TN = 0\r\n",
    "    for i in range(0,len(truth)):\r\n",
    "        if truth[i] == predicted[i] and truth[i] == 0:\r\n",
    "                    TN+=1\r\n",
    "    print(\"True Negative: \", TN)\r\n",
    "    FN = 0\r\n",
    "    for i in range(0,len(truth)):\r\n",
    "        if truth[i] == 1 and predicted[i] == 0:\r\n",
    "                    FN+=1\r\n",
    "    print(\"False Negative: \", FN)\r\n",
    "    CP = 0\r\n",
    "    for i in range(0,len(truth)):\r\n",
    "        if truth[i] == predicted[i]:\r\n",
    "                    CP+=1\r\n",
    "    print(\"Correct Prediction: \", CP) \r\n",
    "    print(CP == TP + TN)\r\n",
    "    ICP = 0\r\n",
    "    for i in range(0,len(truth)):\r\n",
    "        if truth[i] != predicted[i]:\r\n",
    "                    ICP+=1\r\n",
    "    print(\"Incorrect Prediction: \", ICP)\r\n",
    "    print(ICP == FP + FN)\r\n",
    "    recall = (TP)/(TP+FN)\r\n",
    "    \r\n",
    "    return recall  #None # CHANGE IT\r\n",
    "    \r\n",
    "    "
   ],
   "outputs": [],
   "metadata": {}
  },
  {
   "cell_type": "code",
   "execution_count": 133,
   "source": [
    "def f1_score_manual(truth, predicted):\r\n",
    "    \r\n",
    "\r\n",
    "    TP = 0\r\n",
    "    for i in range(0,len(truth)):\r\n",
    "        if truth[i] == predicted[i] and truth[i] == 1:\r\n",
    "                    TP+=1\r\n",
    "    print(\"True Positive: \", TP)\r\n",
    "    FP = 0\r\n",
    "    for i in range(0,len(truth)):\r\n",
    "        if truth[i] == 0 and predicted[i] == 1:\r\n",
    "                    FP+=1\r\n",
    "    print(\"False Positive: \", FP)\r\n",
    "    TN = 0\r\n",
    "    for i in range(0,len(truth)):\r\n",
    "        if truth[i] == predicted[i] and truth[i] == 0:\r\n",
    "                    TN+=1\r\n",
    "    print(\"True Negative: \", TN)\r\n",
    "    FN = 0\r\n",
    "    for i in range(0,len(truth)):\r\n",
    "        if truth[i] == 1 and predicted[i] == 0:\r\n",
    "                    FN+=1\r\n",
    "    print(\"False Negative: \", FN)\r\n",
    "    CP = 0\r\n",
    "    for i in range(0,len(truth)):\r\n",
    "        if truth[i] == predicted[i]:\r\n",
    "                    CP+=1\r\n",
    "    print(\"Correct Prediction: \", CP) \r\n",
    "    print(CP == TP + TN)\r\n",
    "    ICP = 0\r\n",
    "    for i in range(0,len(truth)):\r\n",
    "        if truth[i] != predicted[i]:\r\n",
    "                    ICP+=1\r\n",
    "    print(\"Incorrect Prediction: \", ICP)\r\n",
    "    print(ICP == FP + FN)\r\n",
    "    precision = TP/(TP+FP)\r\n",
    "    recall = (TP)/(TP+FN)\r\n",
    "    f1 = 2*(precision * recall)/(precision + recall)\r\n",
    "    return f1# None # CHANGE IT"
   ],
   "outputs": [],
   "metadata": {}
  },
  {
   "cell_type": "markdown",
   "source": [
    "Assign the results of your four function on two arrays (`truth`, `predicted`)."
   ],
   "metadata": {}
  },
  {
   "cell_type": "code",
   "execution_count": 134,
   "source": [
    "truth = [1,0,0,0,1,1,1,0,0,1,1,0]\r\n",
    "predicted = [1,0,1,0,1,1,0,1,1,0,1,1]"
   ],
   "outputs": [],
   "metadata": {}
  },
  {
   "cell_type": "code",
   "execution_count": 135,
   "source": [
    "accuracy_score_manual =accuracy_manual(truth,predicted) #None # CHANGE IT\r\n",
    "precision_score_manual =precision_manual(truth,predicted)#None # CHANGE IT\r\n",
    "recall_score_manual =recall_manual(truth,predicted) #None # CHANGE IT\r\n",
    "f1_score_manual =f1_score_manual(truth,predicted)#None # CHANGE IT"
   ],
   "outputs": [
    {
     "output_type": "stream",
     "name": "stdout",
     "text": [
      "True Positive:  4\n",
      "False Positive:  4\n",
      "True Negative:  2\n",
      "False Negative:  2\n",
      "Correct Prediction:  6\n",
      "True\n",
      "Incorrect Prediction:  6\n",
      "True\n",
      "True Positive:  4\n",
      "False Positive:  4\n",
      "True Negative:  2\n",
      "False Negative:  2\n",
      "Correct Prediction:  6\n",
      "True\n",
      "Incorrect Prediction:  6\n",
      "True Positive:  4\n",
      "False Positive:  4\n",
      "True Negative:  2\n",
      "False Negative:  2\n",
      "Correct Prediction:  6\n",
      "True\n",
      "Incorrect Prediction:  6\n",
      "True\n",
      "True Positive:  4\n",
      "False Positive:  4\n",
      "True Negative:  2\n",
      "False Negative:  2\n",
      "Correct Prediction:  6\n",
      "True\n",
      "Incorrect Prediction:  6\n",
      "True\n"
     ]
    }
   ],
   "metadata": {}
  },
  {
   "cell_type": "markdown",
   "source": [
    "Show your results here!"
   ],
   "metadata": {}
  },
  {
   "cell_type": "code",
   "execution_count": 136,
   "source": [
    "(accuracy_score_manual, precision_score_manual, recall_score_manual, f1_score_manual)"
   ],
   "outputs": [
    {
     "output_type": "execute_result",
     "data": {
      "text/plain": [
       "(0.5, 0.5, 0.6666666666666666, 0.5714285714285715)"
      ]
     },
     "metadata": {},
     "execution_count": 136
    }
   ],
   "metadata": {}
  },
  {
   "cell_type": "markdown",
   "source": [
    "# 3. Deployment"
   ],
   "metadata": {}
  },
  {
   "cell_type": "markdown",
   "source": [
    "**Task 13: Save models into a file using pickle (0.3 pt)**"
   ],
   "metadata": {}
  },
  {
   "cell_type": "markdown",
   "source": [
    "In this task, you need to pick the best model using cross-validation and deploy it as a pickle file. For this task, we will use the diabetes data that we used for Homework 1. This dataset is originally from the National Institute of Diabetes and Digestive and Kidney Diseases. The objective of the dataset is to diagnostically predict whether or not a patient has diabetes, based on certain diagnostic measurements included in the dataset. Several constraints were placed on the selection of these instances from a larger database. In particular, all patients here are females at least 21 years old of Pima Indian heritage. You can find it in the homework folder.\r\n",
    "\r\n",
    "- Load the dataset into `diabetes`."
   ],
   "metadata": {}
  },
  {
   "cell_type": "code",
   "execution_count": 79,
   "source": [
    "diabetes = pd.read_csv(\"datasets/diabetes.csv\")"
   ],
   "outputs": [],
   "metadata": {}
  },
  {
   "cell_type": "code",
   "execution_count": 80,
   "source": [
    "diabetes.head()"
   ],
   "outputs": [
    {
     "output_type": "execute_result",
     "data": {
      "text/html": [
       "<div>\n",
       "<style scoped>\n",
       "    .dataframe tbody tr th:only-of-type {\n",
       "        vertical-align: middle;\n",
       "    }\n",
       "\n",
       "    .dataframe tbody tr th {\n",
       "        vertical-align: top;\n",
       "    }\n",
       "\n",
       "    .dataframe thead th {\n",
       "        text-align: right;\n",
       "    }\n",
       "</style>\n",
       "<table border=\"1\" class=\"dataframe\">\n",
       "  <thead>\n",
       "    <tr style=\"text-align: right;\">\n",
       "      <th></th>\n",
       "      <th>Pregnancies</th>\n",
       "      <th>Glucose</th>\n",
       "      <th>BloodPressure</th>\n",
       "      <th>SkinThickness</th>\n",
       "      <th>Insulin</th>\n",
       "      <th>BMI</th>\n",
       "      <th>DiabetesPedigreeFunction</th>\n",
       "      <th>Age</th>\n",
       "      <th>Outcome</th>\n",
       "    </tr>\n",
       "  </thead>\n",
       "  <tbody>\n",
       "    <tr>\n",
       "      <th>0</th>\n",
       "      <td>6</td>\n",
       "      <td>148</td>\n",
       "      <td>72</td>\n",
       "      <td>35</td>\n",
       "      <td>0</td>\n",
       "      <td>33.6</td>\n",
       "      <td>0.627</td>\n",
       "      <td>50</td>\n",
       "      <td>1</td>\n",
       "    </tr>\n",
       "    <tr>\n",
       "      <th>1</th>\n",
       "      <td>1</td>\n",
       "      <td>85</td>\n",
       "      <td>66</td>\n",
       "      <td>29</td>\n",
       "      <td>0</td>\n",
       "      <td>26.6</td>\n",
       "      <td>0.351</td>\n",
       "      <td>31</td>\n",
       "      <td>0</td>\n",
       "    </tr>\n",
       "    <tr>\n",
       "      <th>2</th>\n",
       "      <td>8</td>\n",
       "      <td>183</td>\n",
       "      <td>64</td>\n",
       "      <td>0</td>\n",
       "      <td>0</td>\n",
       "      <td>23.3</td>\n",
       "      <td>0.672</td>\n",
       "      <td>32</td>\n",
       "      <td>1</td>\n",
       "    </tr>\n",
       "    <tr>\n",
       "      <th>3</th>\n",
       "      <td>1</td>\n",
       "      <td>89</td>\n",
       "      <td>66</td>\n",
       "      <td>23</td>\n",
       "      <td>94</td>\n",
       "      <td>28.1</td>\n",
       "      <td>0.167</td>\n",
       "      <td>21</td>\n",
       "      <td>0</td>\n",
       "    </tr>\n",
       "    <tr>\n",
       "      <th>4</th>\n",
       "      <td>0</td>\n",
       "      <td>137</td>\n",
       "      <td>40</td>\n",
       "      <td>35</td>\n",
       "      <td>168</td>\n",
       "      <td>43.1</td>\n",
       "      <td>2.288</td>\n",
       "      <td>33</td>\n",
       "      <td>1</td>\n",
       "    </tr>\n",
       "  </tbody>\n",
       "</table>\n",
       "</div>"
      ],
      "text/plain": [
       "   Pregnancies  Glucose  BloodPressure  SkinThickness  Insulin   BMI  \\\n",
       "0            6      148             72             35        0  33.6   \n",
       "1            1       85             66             29        0  26.6   \n",
       "2            8      183             64              0        0  23.3   \n",
       "3            1       89             66             23       94  28.1   \n",
       "4            0      137             40             35      168  43.1   \n",
       "\n",
       "   DiabetesPedigreeFunction  Age  Outcome  \n",
       "0                     0.627   50        1  \n",
       "1                     0.351   31        0  \n",
       "2                     0.672   32        1  \n",
       "3                     0.167   21        0  \n",
       "4                     2.288   33        1  "
      ]
     },
     "metadata": {},
     "execution_count": 80
    }
   ],
   "metadata": {}
  },
  {
   "cell_type": "markdown",
   "source": [
    "- Split the dataset into two parts: attributes (`X`) and labels (Outcome, `y`)."
   ],
   "metadata": {}
  },
  {
   "cell_type": "code",
   "execution_count": 82,
   "source": [
    "X = diabetes.drop(['Outcome'],axis=1)#None # CHANGE IT\r\n",
    "y = diabetes.iloc[:,-1]#None # CHANGE IT"
   ],
   "outputs": [],
   "metadata": {}
  },
  {
   "cell_type": "markdown",
   "source": [
    "Your task is as follows:\n",
    "\n",
    "1. Create an instance of an SVC classifier without setting any constraint.\n",
    "2. Run grid search with a list of two dictionaries. In the first dictionary, you should examine 'poly' kernel, with degree = [2, 3, 4]. In the second dictionary, you should test two kernels ['linear', 'rbf'] with a list of C values [10, 100]. Use **AUPRC** as its scoring measure. Set cv=5 for grid search cross-validation. Since grid search uses stratified k-fold inside, you should put the complete dataset.\n",
    "3. Save the best classifier into the variable called `svm_best_classifier_2` and save the trained model into `model_diabetes.pickle` using pickle. When saving your model, do not specify any folder.\n",
    " - **Do not use your own specific name for the model!**"
   ],
   "metadata": {}
  },
  {
   "cell_type": "code",
   "execution_count": 87,
   "source": [
    "svc = SVC()\r\n",
    "\r\n",
    "grid_dict1 = {'degree': [2, 3, 4],'kernel': ['poly']}\r\n",
    "grid_dict2 = {'C': [10, 100],'kernel': ['linear', 'rbf']}\r\n",
    "gs2 = GridSearchCV(svc, [grid_dict1, grid_dict2], cv=5, scoring='average_precision',refit=True)\r\n",
    "gs2.fit(X, y)\r\n",
    "svm_best_classifier_2 = gs2.best_estimator_\r\n",
    "file_path = \"model_diabetes.pickle\"\r\n",
    "data_to_save = svm_best_classifier_2\r\n",
    "with open(file_path, \"wb\") as write_file:\r\n",
    "    pickle.dump(data_to_save, write_file)\r\n",
    "with open(file_path, \"rb\") as read_file:\r\n",
    "    loaded_model = pickle.load(read_file)\r\n",
    "    \r\n",
    "\r\n"
   ],
   "outputs": [],
   "metadata": {}
  },
  {
   "cell_type": "markdown",
   "source": [
    "Show your classifier here!"
   ],
   "metadata": {}
  },
  {
   "cell_type": "code",
   "execution_count": 108,
   "source": [
    "svm_best_classifier_2"
   ],
   "outputs": [
    {
     "output_type": "execute_result",
     "data": {
      "text/plain": [
       "SVC(C=10)"
      ]
     },
     "metadata": {},
     "execution_count": 108
    }
   ],
   "metadata": {}
  },
  {
   "cell_type": "markdown",
   "source": [
    "**Task 14: DASH deployment (0.3 pt)**"
   ],
   "metadata": {}
  },
  {
   "cell_type": "markdown",
   "source": [
    "You will run DASH application by using the model `model_diabetes.pickle` you exported with the project files in the `webplatform_dash` folder. Locate the model in the same folder with this jupeter notebook, and go into `webplatform_dash` folder. There you can run your own DASH application as you learned from Lab 5. Note that you should **not** move the model file into `webplatform_dash`.\n",
    "\n",
    "- Submit a screenshot with your model file into one zip file in a separate submission form for your DASH project. For the details of the DASH deployment, check out Lab 5."
   ],
   "metadata": {}
  }
 ],
 "metadata": {
  "kernelspec": {
   "name": "python3",
   "display_name": "Python 3.9.7 64-bit"
  },
  "language_info": {
   "codemirror_mode": {
    "name": "ipython",
    "version": 3
   },
   "file_extension": ".py",
   "mimetype": "text/x-python",
   "name": "python",
   "nbconvert_exporter": "python",
   "pygments_lexer": "ipython3",
   "version": "3.9.7"
  },
  "interpreter": {
   "hash": "744c7a85a28e9d36eeb590df3c46ffa5f0077ab56b670849feff78b8ab6a315d"
  }
 },
 "nbformat": 4,
 "nbformat_minor": 4
}